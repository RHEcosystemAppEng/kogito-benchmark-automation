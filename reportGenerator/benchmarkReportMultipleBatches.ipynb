{
 "cells": [
  {
   "cell_type": "code",
   "execution_count": 1,
   "metadata": {},
   "outputs": [],
   "source": [
    "import base64\n",
    "from IPython.display import HTML\n",
    "import json\n",
    "import pandas as pd\n",
    "import sys\n",
    "import time\n",
    "import datetime\n",
    "from IPython.display import Markdown\n",
    "import matplotlib.pyplot as plt"
   ]
  },
  {
   "cell_type": "code",
   "execution_count": 2,
   "metadata": {},
   "outputs": [],
   "source": [
    "numOfBatches=4"
   ]
  },
  {
   "cell_type": "code",
   "execution_count": 3,
   "metadata": {},
   "outputs": [],
   "source": [
    "def durationWithUnit(counter, timeOrCount, type):\n",
    "    durationWithUnit=str(timeOrCount)\n",
    "    if batches[counter]['Tests']['type']=='duration':\n",
    "        return durationWithUnit+ ' sec'\n",
    "    else:\n",
    "        return durationSingleTest + ' requests'"
   ]
  },
  {
   "cell_type": "code",
   "execution_count": 4,
   "metadata": {},
   "outputs": [],
   "source": [
    "def create_download_link( df, title = \"Download CSV file\", filename = \"data.csv\"):\n",
    "    csv = df.to_csv()\n",
    "    b64 = base64.b64encode(csv.encode())\n",
    "    payload = b64.decode()\n",
    "    html = '<a download=\"{filename}\" href=\"data:text/csv;base64,{payload}\" target=\"_blank\">{title}</a>'\n",
    "    html = html.format(payload=payload,title=title,filename=filename)\n",
    "    return HTML(html)"
   ]
  },
  {
   "cell_type": "code",
   "execution_count": 5,
   "metadata": {},
   "outputs": [],
   "source": [
    "def addCommonData(resultData):\n",
    "    resultData['Deployment']=deployment\n",
    "    resultData['Total CPUs']=totalCPUs\n",
    "    resultData['Total Memory GB']=totalMemoryGB\n",
    "    resultData['Duration Single Test']=durationSingleTest\n",
    "    resultData['Persistence']=persistence\n",
    "    resultData['App Process URL']=appProcessUrl"
   ]
  },
  {
   "cell_type": "code",
   "execution_count": 6,
   "metadata": {},
   "outputs": [],
   "source": [
    "counter=1\n",
    "batches=[]\n",
    "while counter <= numOfBatches:\n",
    "    batches.append(json.load(open('test-run'+str(counter)+'/batch.json')))\n",
    "    #print(batches[counter-1])\n",
    "    counter=counter+1"
   ]
  },
  {
   "cell_type": "code",
   "execution_count": 7,
   "metadata": {},
   "outputs": [],
   "source": [
    "counter=0\n",
    "sysDatas=[]\n",
    "localHosts=['LOCAL','VM1','VM2']\n",
    "while counter < numOfBatches:\n",
    "    systemDataName='test-run'+str(counter+1)+'/results/system-data.csv'\n",
    "    systemData = pd.read_csv(systemDataName, names=['javaversion', 'totalCPUs', 'totalMemoryGB'],header=0, index_col=False)\n",
    "    sysData={}\n",
    "    sysData['jdkVersion']=systemData.javaversion[0]\n",
    "    sysData['totalCPUs']=systemData.totalCPUs[0]\n",
    "    sysData['totalMemoryGB']=systemData.totalMemoryGB[0]\n",
    "    sysData['appVersion']=batches[counter]['InfraSetup']['appVersion']\n",
    "    sysData['tester']=batches[counter]['InfraSetup']['tester']\n",
    "    sysData['app']=batches[counter]['InfraSetup']['app']\n",
    "    sysData['testEngine']=batches[counter]['InfraSetup']['testClient']\n",
    "    sysData['deployment']='On-premise' if (sysData['tester']['name'] in localHosts and sysData['app']['name'] in localHosts) else 'Cloud'\n",
    "    appProcess=batches[counter]['Process']\n",
    "    appProcessUrl=appProcess['schema']+\"://\"+appProcess['url']+':'+str(appProcess['port'])+'/'+appProcess['app']\n",
    "    sysData['appProcessUrl']=appProcessUrl\n",
    "    appInfra=batches[counter]['AppInfra']\n",
    "    persistence='Mongo' if appInfra['Mongo']=='yes' else 'PostgresQL' if appInfra['PostgresQL']=='yes' else 'None'\n",
    "    sysData['persistence']=persistence\n",
    "\n",
    "    sysDatas.append(sysData)\n",
    "    counter=counter+1\n",
    "    #print(sysData)\n"
   ]
  },
  {
   "cell_type": "code",
   "execution_count": 8,
   "metadata": {},
   "outputs": [
    {
     "name": "stdout",
     "output_type": "stream",
     "text": [
      "{'durationSingleTest': '120 sec', 'warmup': '60 sec'}\n",
      "{'durationSingleTest': '120 sec', 'warmup': '60 sec'}\n",
      "{'durationSingleTest': '120 sec', 'warmup': '60 sec'}\n",
      "{'durationSingleTest': '120 sec', 'warmup': '60 sec'}\n"
     ]
    }
   ],
   "source": [
    "counter=0\n",
    "testConfigs=[]\n",
    "while counter < numOfBatches:\n",
    "    testConfig={}\n",
    "    testConfig['durationSingleTest']=durationWithUnit(counter, batches[counter]['Tests']['timeOrCount'], batches[counter]['Tests']['type'])\n",
    "    testConfig['warmup']='no' if batches[counter]['Warmup']==\"no\" else durationWithUnit(counter, batches[counter]['Warmup']['timeOrCount'], batches[counter]['Warmup']['type'])\n",
    "\n",
    "    testConfigs.append(testConfig)\n",
    "    counter=counter+1\n",
    "    # print(testConfig)\n"
   ]
  },
  {
   "cell_type": "code",
   "execution_count": 9,
   "metadata": {},
   "outputs": [],
   "source": [
    "counter=0\n",
    "testRun=0\n",
    "testResults=[]\n",
    "minTimestamp=sys.maxsize\n",
    "maxTimestamp=0\n",
    "while counter < numOfBatches:\n",
    "    testRun=0\n",
    "    for test in batches[counter]['Tests']['runs']:\n",
    "        csvName='test-run'+str(counter+1)+'/results/res'+str(testRun)+'.csv'\n",
    "        result = pd.read_csv(csvName, header=0, index_col=False)\n",
    "        # print(result)\n",
    "        resultData={}\n",
    "        resultData['persistence']=sysDatas[counter]['persistence']\n",
    "        resultData['appVersion']=sysDatas[counter]['appVersion']\n",
    "        resultData['persistence-appVersion']=sysDatas[counter]['persistence']+'-'+sysDatas[counter]['appVersion']\n",
    "        #addCommonData(resultData)\n",
    "        resultData['#Replicas']=test['replicas']\n",
    "        resultData['#Users']=test['users']\n",
    "        resultData['MRT(ms)']=result.Average[0]\n",
    "        resultData['RPS']=result.Throughput[0]\n",
    "        # print(resultData)\n",
    "\n",
    "        usageName='test-run'+str(counter+1)+'/results/usage'+str(testRun)+'.csv'\n",
    "        usage = pd.read_csv(usageName, \n",
    "            names=['appCpuUsage', 'systemCpuUsage', 'appMemoryUsage', 'appMemoryUsagePercentage', 'systemMemoryUsage', 'systemMemoryUsagePercentage'],\n",
    "            header=0, index_col=False)\n",
    "        resultData['CPU Usage-app']=usage.appCpuUsage[0]\n",
    "        resultData['CPU Usage-system']=usage.systemCpuUsage[0]\n",
    "        resultData['Memory Usage-app']=usage.appMemoryUsage[0]\n",
    "        resultData['Memory Usage%-app']=usage.appMemoryUsagePercentage[0]\n",
    "        resultData['Memory Usage-system']=usage.systemMemoryUsage[0]\n",
    "        resultData['Memory Usage%-system']=usage.systemMemoryUsagePercentage[0]\n",
    "        # print(resultData)\n",
    "\n",
    "        testResults.append(resultData)\n",
    "\n",
    "        jtlName='test-run'+str(counter+1)+'/results/res'+str(testRun)+'.jtl'\n",
    "        jtl = pd.read_csv(jtlName, header=0, index_col=False)\n",
    "        minTimestamp=min([minTimestamp, jtl.timeStamp[0]])\n",
    "        maxTimestamp=max([maxTimestamp, jtl.timeStamp[len(jtl)-1]])\n",
    "\n",
    "        testRun=testRun+1\n",
    "    counter=counter+1\n",
    "\n",
    "# print(testResults)"
   ]
  },
  {
   "cell_type": "code",
   "execution_count": 32,
   "metadata": {},
   "outputs": [
    {
     "name": "stdout",
     "output_type": "stream",
     "text": [
      "* Persistence | Kogito version combinations:\n",
      "-     [Mongo | main] \n",
      "-     [Mongo | CoreFix-mem-idx-2.0.0-snap] \n",
      "-     [PostgresQL | main] \n",
      "-     [PostgresQL | CoreFix-mem-idx-2.0.0-snap] \n"
     ]
    }
   ],
   "source": [
    "startTime=time.strftime('%Y-%m-%d %H:%M:%S', time.localtime(minTimestamp/1000))\n",
    "endTime=time.strftime('%Y-%m-%d %H:%M:%S', time.localtime(maxTimestamp/1000))\n",
    "batchDuration=str(datetime.timedelta(seconds=(maxTimestamp/1000-minTimestamp/1000)))\n",
    "\n",
    "counter=0\n",
    "aggPersistenceVersion='* Persistence | Kogito version combinations:'\n",
    "while counter < numOfBatches:\n",
    "    aggPersistenceVersion+='\\n - '+sysDatas[counter]['persistence'] + ' | ' + sysDatas[counter]['appVersion']\n",
    "    counter=counter+1\n",
    "# print(aggPersistenceVersion)"
   ]
  },
  {
   "cell_type": "code",
   "execution_count": 11,
   "metadata": {},
   "outputs": [
    {
     "data": {
      "text/markdown": [
       "\n",
       "# Kogito Benchmark Multiple Batch Runs\n",
       "## Test Environment\n",
       "* Deployment:  On-premise\n",
       "* Duration of each test: 120 sec\n",
       "* Warmup: 60 sec\n",
       "* Process: http://appeng-vm02.cloud.lab.eng.bos.redhat.com:8080/simpleHT\n",
       "* Persistence | Kogito version combinations:</br>- Mongo | main</br>- Mongo | CoreFix-mem-idx-2.0.0-snap</br>- PostgresQL | main</br>- PostgresQL | CoreFix-mem-idx-2.0.0-snap\n",
       "\n"
      ],
      "text/plain": [
       "<IPython.core.display.Markdown object>"
      ]
     },
     "execution_count": 11,
     "metadata": {},
     "output_type": "execute_result"
    }
   ],
   "source": [
    "Markdown(\"\"\"\n",
    "# Kogito Benchmark Multiple Batch Runs\n",
    "## Test Environment\n",
    "* Deployment:  {deployment}\n",
    "* Duration of each test: {durationSingleTest}\n",
    "* Warmup: {warmup}\n",
    "* Process: {appProcessUrl}\n",
    "{aggPersistenceVersionOut}\n",
    "\n",
    "\"\"\".format(deployment=sysDatas[0]['deployment'],aggPersistenceVersionOut=aggPersistenceVersion,\n",
    "durationSingleTest=testConfigs[0]['durationSingleTest'],warmup=testConfigs[0]['warmup'],appProcessUrl=sysDatas[0]['appProcessUrl']))\n",
    "\n"
   ]
  },
  {
   "cell_type": "code",
   "execution_count": 12,
   "metadata": {},
   "outputs": [
    {
     "data": {
      "text/markdown": [
       "\n",
       "## Test Client\n",
       "* Client host: appeng-vm01.cloud.lab.eng.bos.redhat.com\n",
       "* Test engine:  JMETER\n"
      ],
      "text/plain": [
       "<IPython.core.display.Markdown object>"
      ]
     },
     "execution_count": 12,
     "metadata": {},
     "output_type": "execute_result"
    }
   ],
   "source": [
    "Markdown(\"\"\"\n",
    "## Test Client\n",
    "* Client host: {hostname}\n",
    "* Test engine:  {testEngine}\n",
    "\"\"\".format(hostname=sysDatas[0]['tester']['hostname'],testEngine=sysDatas[0]['testEngine']))\n"
   ]
  },
  {
   "cell_type": "code",
   "execution_count": 13,
   "metadata": {},
   "outputs": [
    {
     "data": {
      "text/markdown": [
       "\n",
       "## Test Service\n",
       "* Service host: appeng-vm02.cloud.lab.eng.bos.redhat.com (4 CPU cores, 15.51 GB Memory)\n",
       "* JDK version:  openjdk version \"11.0.12\" 2021-07-20 LTS\n",
       "* Persistence | Kogito version combinations:</br>- Mongo | main</br>- Mongo | CoreFix-mem-idx-2.0.0-snap</br>- PostgresQL | main</br>- PostgresQL | CoreFix-mem-idx-2.0.0-snap\n"
      ],
      "text/plain": [
       "<IPython.core.display.Markdown object>"
      ]
     },
     "execution_count": 13,
     "metadata": {},
     "output_type": "execute_result"
    }
   ],
   "source": [
    "Markdown(\"\"\"\n",
    "## Test Service\n",
    "* Service host: {hostname} ({totalCPUs} CPU cores, {totalMemoryGB} GB Memory)\n",
    "* JDK version:  {jdkVersion}\n",
    "{aggPersistenceVersionOut}\n",
    "\"\"\".format(hostname=sysDatas[0]['app']['hostname'],totalCPUs=sysDatas[0]['totalCPUs'],totalMemoryGB=sysDatas[0]['totalMemoryGB'],\n",
    "jdkVersion=sysDatas[0]['jdkVersion'],aggPersistenceVersionOut=aggPersistenceVersion))\n"
   ]
  },
  {
   "cell_type": "markdown",
   "metadata": {},
   "source": [
    "## Execution Report\n",
    "### Chart view"
   ]
  },
  {
   "cell_type": "code",
   "execution_count": 14,
   "metadata": {},
   "outputs": [
    {
     "name": "stdout",
     "output_type": "stream",
     "text": [
      "   persistence                  appVersion  \\\n",
      "0        Mongo                        main   \n",
      "1        Mongo                        main   \n",
      "2        Mongo                        main   \n",
      "3        Mongo                        main   \n",
      "4        Mongo                        main   \n",
      "5        Mongo  CoreFix-mem-idx-2.0.0-snap   \n",
      "6        Mongo  CoreFix-mem-idx-2.0.0-snap   \n",
      "7        Mongo  CoreFix-mem-idx-2.0.0-snap   \n",
      "8        Mongo  CoreFix-mem-idx-2.0.0-snap   \n",
      "9        Mongo  CoreFix-mem-idx-2.0.0-snap   \n",
      "10  PostgresQL                        main   \n",
      "11  PostgresQL                        main   \n",
      "12  PostgresQL                        main   \n",
      "13  PostgresQL                        main   \n",
      "14  PostgresQL                        main   \n",
      "15  PostgresQL  CoreFix-mem-idx-2.0.0-snap   \n",
      "16  PostgresQL  CoreFix-mem-idx-2.0.0-snap   \n",
      "17  PostgresQL  CoreFix-mem-idx-2.0.0-snap   \n",
      "18  PostgresQL  CoreFix-mem-idx-2.0.0-snap   \n",
      "19  PostgresQL  CoreFix-mem-idx-2.0.0-snap   \n",
      "\n",
      "                   persistence-appVersion  #Replicas  #Users  MRT(ms)     RPS  \\\n",
      "0                              Mongo-main          1       1       20    49.1   \n",
      "1                              Mongo-main          1       4       28   138.1   \n",
      "2                              Mongo-main          1       8       54   145.8   \n",
      "3                              Mongo-main          1      60      416   142.8   \n",
      "4                              Mongo-main          1     100      657   151.0   \n",
      "5        Mongo-CoreFix-mem-idx-2.0.0-snap          1       1        3   246.8   \n",
      "6        Mongo-CoreFix-mem-idx-2.0.0-snap          1       4        5   664.8   \n",
      "7        Mongo-CoreFix-mem-idx-2.0.0-snap          1       8        8   916.1   \n",
      "8        Mongo-CoreFix-mem-idx-2.0.0-snap          1      60       43  1359.1   \n",
      "9        Mongo-CoreFix-mem-idx-2.0.0-snap          1     100       70  1408.2   \n",
      "10                        PostgresQL-main          1       1        2   469.4   \n",
      "11                        PostgresQL-main          1       4        3  1120.0   \n",
      "12                        PostgresQL-main          1       8        6  1247.0   \n",
      "13                        PostgresQL-main          1      60       48  1232.4   \n",
      "14                        PostgresQL-main          1     100       81  1221.8   \n",
      "15  PostgresQL-CoreFix-mem-idx-2.0.0-snap          1       1        3   307.2   \n",
      "16  PostgresQL-CoreFix-mem-idx-2.0.0-snap          1       4        4   855.7   \n",
      "17  PostgresQL-CoreFix-mem-idx-2.0.0-snap          1       8        8   952.1   \n",
      "18  PostgresQL-CoreFix-mem-idx-2.0.0-snap          1      60       64   921.1   \n",
      "19  PostgresQL-CoreFix-mem-idx-2.0.0-snap          1     100      109   906.9   \n",
      "\n",
      "   CPU Usage-app CPU Usage-system Memory Usage-app Memory Usage%-app  \\\n",
      "0             0%           25.60%         727.98MB             4.58%   \n",
      "1            13%           85.50%         819.21MB             5.15%   \n",
      "2             5%           97.90%         835.10MB             5.25%   \n",
      "3             3%           99.70%         846.98MB             5.33%   \n",
      "4             3%           99.90%              0MB                0%   \n",
      "5            26%           23.70%         482.32MB             3.03%   \n",
      "6            25%           57.70%         490.78MB             3.08%   \n",
      "7            13%           73.00%         504.51MB             3.17%   \n",
      "8            45%           92.30%         531.10MB             3.34%   \n",
      "9            51%           92.50%         666.03MB             4.19%   \n",
      "10           45%           49.00%              0MB                0%   \n",
      "11           55%           70.00%              0MB                0%   \n",
      "12           65%           80.80%              0MB                0%   \n",
      "13           51%           81.40%              0MB                0%   \n",
      "14           58%           81.20%              0MB                0%   \n",
      "15            8%           23.50%         455.33MB             2.86%   \n",
      "16           25%           56.10%         472.97MB             2.97%   \n",
      "17           23%           61.50%         481.37MB             3.03%   \n",
      "18           28%           61.20%         470.97MB             2.96%   \n",
      "19           35%           62.50%         485.60MB             3.05%   \n",
      "\n",
      "   Memory Usage-system Memory Usage%-system  \n",
      "0            1494.00MB                9.40%  \n",
      "1            1599.27MB               10.06%  \n",
      "2            1614.61MB               10.16%  \n",
      "3            1671.70MB               10.52%  \n",
      "4            1848.12MB               11.63%  \n",
      "5            1385.05MB                8.72%  \n",
      "6            1402.92MB                8.83%  \n",
      "7            1449.69MB                9.12%  \n",
      "8            1720.19MB               10.83%  \n",
      "9            1866.91MB               11.75%  \n",
      "10           2522.33MB               15.88%  \n",
      "11           3439.49MB               21.65%  \n",
      "12           3575.90MB               22.51%  \n",
      "13           3528.60MB               22.21%  \n",
      "14           3586.76MB               22.58%  \n",
      "15           1079.36MB                6.79%  \n",
      "16           1107.56MB                6.97%  \n",
      "17           1110.23MB                6.99%  \n",
      "18           1107.79MB                6.97%  \n",
      "19           1126.44MB                7.09%  \n"
     ]
    }
   ],
   "source": [
    "raw = pd.DataFrame(testResults)\n",
    "# print(raw)"
   ]
  },
  {
   "cell_type": "code",
   "execution_count": 15,
   "metadata": {},
   "outputs": [],
   "source": [
    "# raw.insert(1,'Start Time', startTime)\n",
    "# raw.insert(2,'End Time', endTime)\n",
    "# raw.insert(3,'Batch Duration', batchDuration)\n"
   ]
  },
  {
   "cell_type": "code",
   "execution_count": 16,
   "metadata": {},
   "outputs": [
    {
     "name": "stdout",
     "output_type": "stream",
     "text": [
      "[  1   4   8  60 100]\n"
     ]
    }
   ],
   "source": [
    "users = raw['#Users'].unique()\n",
    "# print(users)"
   ]
  },
  {
   "cell_type": "code",
   "execution_count": 17,
   "metadata": {},
   "outputs": [],
   "source": [
    "counter=0\n",
    "combinedData = {}\n",
    "for r in raw['persistence-appVersion'].unique():\n",
    "    colValues = raw[raw['persistence-appVersion']==r]['MRT(ms)'].values\n",
    "    combinedData[r] = colValues    "
   ]
  },
  {
   "cell_type": "code",
   "execution_count": 18,
   "metadata": {},
   "outputs": [
    {
     "data": {
      "image/png": "[encoded data removed]",
      "text/plain": [
       "<Figure size 432x288 with 1 Axes>"
      ]
     },
     "metadata": {
      "needs_background": "light"
     },
     "output_type": "display_data"
    }
   ],
   "source": [
    "mrtDF = pd.DataFrame(combinedData, index=users)\n",
    "mrtDF.plot(kind=\"bar\")\n",
    "plt.title(\"Mean Response Time\")\n",
    "plt.xlabel(\"# Users\")\n",
    "plt.ylabel(\"MRT (ms)\")\n",
    "plt.rcParams[\"figure.figsize\"] = (10,4)\n"
   ]
  },
  {
   "cell_type": "code",
   "execution_count": 19,
   "metadata": {},
   "outputs": [],
   "source": [
    "counter=0\n",
    "combinedData = {}\n",
    "for r in raw['persistence-appVersion'].unique():\n",
    "    colValues = raw[raw['persistence-appVersion']==r]['RPS'].values\n",
    "    combinedData[r] = colValues    "
   ]
  },
  {
   "cell_type": "code",
   "execution_count": 20,
   "metadata": {},
   "outputs": [
    {
     "data": {
      "image/png": "[encoded data removed]",
      "text/plain": [
       "<Figure size 720x288 with 1 Axes>"
      ]
     },
     "metadata": {
      "needs_background": "light"
     },
     "output_type": "display_data"
    }
   ],
   "source": [
    "mrtDF = pd.DataFrame(combinedData, index=users)\n",
    "\n",
    "mrtDF.plot(kind=\"bar\")\n",
    "plt.title(\"Requests per Second\")\n",
    "plt.xlabel(\"# Users\")\n",
    "plt.ylabel(\"RPS\")\n",
    "plt.rcParams[\"figure.figsize\"] = (10,4)"
   ]
  },
  {
   "cell_type": "code",
   "execution_count": 21,
   "metadata": {},
   "outputs": [],
   "source": [
    "counter=0\n",
    "combinedData = {}\n",
    "for r in raw['persistence-appVersion'].unique():\n",
    "    colValues = raw[raw['persistence-appVersion']==r]['CPU Usage-app'].str.replace('%','').apply(pd.to_numeric).values\n",
    "    combinedData[r] = colValues      "
   ]
  },
  {
   "cell_type": "code",
   "execution_count": 22,
   "metadata": {},
   "outputs": [
    {
     "data": {
      "image/png": "[encoded data removed]",
      "text/plain": [
       "<Figure size 720x288 with 1 Axes>"
      ]
     },
     "metadata": {
      "needs_background": "light"
     },
     "output_type": "display_data"
    }
   ],
   "source": [
    "cpusDF = pd.DataFrame(combinedData, index=users)\n",
    "cpusDF.plot(kind=\"bar\")\n",
    "plt.title(\"CPU Usage (app)\")\n",
    "plt.xlabel(\"# Users\")\n",
    "plt.ylabel(\"CPU usage\")\n",
    "plt.rcParams[\"figure.figsize\"] = (10,4)"
   ]
  },
  {
   "cell_type": "code",
   "execution_count": 23,
   "metadata": {},
   "outputs": [],
   "source": [
    "counter=0\n",
    "combinedData = {}\n",
    "for r in raw['persistence-appVersion'].unique():\n",
    "    colValues = raw[raw['persistence-appVersion']==r]['Memory Usage-app'].str.replace('MB','').apply(pd.to_numeric).values\n",
    "    combinedData[r] = colValues  "
   ]
  },
  {
   "cell_type": "code",
   "execution_count": 24,
   "metadata": {},
   "outputs": [
    {
     "data": {
      "image/png": "[encoded data removed]",
      "text/plain": [
       "<Figure size 720x288 with 1 Axes>"
      ]
     },
     "metadata": {
      "needs_background": "light"
     },
     "output_type": "display_data"
    }
   ],
   "source": [
    "memoryUsageDF = pd.DataFrame(combinedData, index=users)\n",
    "memoryUsageDF.plot(kind=\"bar\")\n",
    "plt.title(\"Memory Usage (app)\")\n",
    "plt.xlabel(\"# Users\")\n",
    "plt.ylabel(\"Memory usage\")\n",
    "plt.rcParams[\"figure.figsize\"] = (10,4)"
   ]
  },
  {
   "cell_type": "markdown",
   "metadata": {},
   "source": [
    "### Tabular view"
   ]
  },
  {
   "cell_type": "code",
   "execution_count": 25,
   "metadata": {},
   "outputs": [
    {
     "data": {
      "text/html": [
       "<style  type=\"text/css\" >\n",
       "</style><table id=\"T_078c1660_405e_11ec_bca7_60f262e7cb56\" ><thead>    <tr>        <th class=\"col_heading level0 col0\" >persistence</th>        <th class=\"col_heading level0 col1\" >appVersion</th>        <th class=\"col_heading level0 col3\" >#Replicas</th>        <th class=\"col_heading level0 col4\" >#Users</th>        <th class=\"col_heading level0 col5\" >MRT(ms)</th>        <th class=\"col_heading level0 col6\" >RPS</th>        <th class=\"col_heading level0 col7\" >CPU Usage-app</th>        <th class=\"col_heading level0 col8\" >CPU Usage-system</th>        <th class=\"col_heading level0 col9\" >Memory Usage-app</th>        <th class=\"col_heading level0 col10\" >Memory Usage%-app</th>        <th class=\"col_heading level0 col11\" >Memory Usage-system</th>        <th class=\"col_heading level0 col12\" >Memory Usage%-system</th>    </tr></thead><tbody>\n",
       "                <tr>\n",
       "                                <td id=\"T_078c1660_405e_11ec_bca7_60f262e7cb56row0_col0\" class=\"data row0 col0\" >Mongo</td>\n",
       "                        <td id=\"T_078c1660_405e_11ec_bca7_60f262e7cb56row0_col1\" class=\"data row0 col1\" >main</td>\n",
       "                                <td id=\"T_078c1660_405e_11ec_bca7_60f262e7cb56row0_col3\" class=\"data row0 col3\" >1</td>\n",
       "                        <td id=\"T_078c1660_405e_11ec_bca7_60f262e7cb56row0_col4\" class=\"data row0 col4\" >1</td>\n",
       "                        <td id=\"T_078c1660_405e_11ec_bca7_60f262e7cb56row0_col5\" class=\"data row0 col5\" >20</td>\n",
       "                        <td id=\"T_078c1660_405e_11ec_bca7_60f262e7cb56row0_col6\" class=\"data row0 col6\" >49.100000</td>\n",
       "                        <td id=\"T_078c1660_405e_11ec_bca7_60f262e7cb56row0_col7\" class=\"data row0 col7\" >0%</td>\n",
       "                        <td id=\"T_078c1660_405e_11ec_bca7_60f262e7cb56row0_col8\" class=\"data row0 col8\" > 25.60%</td>\n",
       "                        <td id=\"T_078c1660_405e_11ec_bca7_60f262e7cb56row0_col9\" class=\"data row0 col9\" > 727.98MB</td>\n",
       "                        <td id=\"T_078c1660_405e_11ec_bca7_60f262e7cb56row0_col10\" class=\"data row0 col10\" > 4.58%</td>\n",
       "                        <td id=\"T_078c1660_405e_11ec_bca7_60f262e7cb56row0_col11\" class=\"data row0 col11\" > 1494.00MB</td>\n",
       "                        <td id=\"T_078c1660_405e_11ec_bca7_60f262e7cb56row0_col12\" class=\"data row0 col12\" > 9.40%</td>\n",
       "            </tr>\n",
       "            <tr>\n",
       "                                <td id=\"T_078c1660_405e_11ec_bca7_60f262e7cb56row1_col0\" class=\"data row1 col0\" >Mongo</td>\n",
       "                        <td id=\"T_078c1660_405e_11ec_bca7_60f262e7cb56row1_col1\" class=\"data row1 col1\" >main</td>\n",
       "                                <td id=\"T_078c1660_405e_11ec_bca7_60f262e7cb56row1_col3\" class=\"data row1 col3\" >1</td>\n",
       "                        <td id=\"T_078c1660_405e_11ec_bca7_60f262e7cb56row1_col4\" class=\"data row1 col4\" >4</td>\n",
       "                        <td id=\"T_078c1660_405e_11ec_bca7_60f262e7cb56row1_col5\" class=\"data row1 col5\" >28</td>\n",
       "                        <td id=\"T_078c1660_405e_11ec_bca7_60f262e7cb56row1_col6\" class=\"data row1 col6\" >138.100000</td>\n",
       "                        <td id=\"T_078c1660_405e_11ec_bca7_60f262e7cb56row1_col7\" class=\"data row1 col7\" >13%</td>\n",
       "                        <td id=\"T_078c1660_405e_11ec_bca7_60f262e7cb56row1_col8\" class=\"data row1 col8\" > 85.50%</td>\n",
       "                        <td id=\"T_078c1660_405e_11ec_bca7_60f262e7cb56row1_col9\" class=\"data row1 col9\" > 819.21MB</td>\n",
       "                        <td id=\"T_078c1660_405e_11ec_bca7_60f262e7cb56row1_col10\" class=\"data row1 col10\" > 5.15%</td>\n",
       "                        <td id=\"T_078c1660_405e_11ec_bca7_60f262e7cb56row1_col11\" class=\"data row1 col11\" > 1599.27MB</td>\n",
       "                        <td id=\"T_078c1660_405e_11ec_bca7_60f262e7cb56row1_col12\" class=\"data row1 col12\" > 10.06%</td>\n",
       "            </tr>\n",
       "            <tr>\n",
       "                                <td id=\"T_078c1660_405e_11ec_bca7_60f262e7cb56row2_col0\" class=\"data row2 col0\" >Mongo</td>\n",
       "                        <td id=\"T_078c1660_405e_11ec_bca7_60f262e7cb56row2_col1\" class=\"data row2 col1\" >main</td>\n",
       "                                <td id=\"T_078c1660_405e_11ec_bca7_60f262e7cb56row2_col3\" class=\"data row2 col3\" >1</td>\n",
       "                        <td id=\"T_078c1660_405e_11ec_bca7_60f262e7cb56row2_col4\" class=\"data row2 col4\" >8</td>\n",
       "                        <td id=\"T_078c1660_405e_11ec_bca7_60f262e7cb56row2_col5\" class=\"data row2 col5\" >54</td>\n",
       "                        <td id=\"T_078c1660_405e_11ec_bca7_60f262e7cb56row2_col6\" class=\"data row2 col6\" >145.800000</td>\n",
       "                        <td id=\"T_078c1660_405e_11ec_bca7_60f262e7cb56row2_col7\" class=\"data row2 col7\" >5%</td>\n",
       "                        <td id=\"T_078c1660_405e_11ec_bca7_60f262e7cb56row2_col8\" class=\"data row2 col8\" > 97.90%</td>\n",
       "                        <td id=\"T_078c1660_405e_11ec_bca7_60f262e7cb56row2_col9\" class=\"data row2 col9\" > 835.10MB</td>\n",
       "                        <td id=\"T_078c1660_405e_11ec_bca7_60f262e7cb56row2_col10\" class=\"data row2 col10\" > 5.25%</td>\n",
       "                        <td id=\"T_078c1660_405e_11ec_bca7_60f262e7cb56row2_col11\" class=\"data row2 col11\" > 1614.61MB</td>\n",
       "                        <td id=\"T_078c1660_405e_11ec_bca7_60f262e7cb56row2_col12\" class=\"data row2 col12\" > 10.16%</td>\n",
       "            </tr>\n",
       "            <tr>\n",
       "                                <td id=\"T_078c1660_405e_11ec_bca7_60f262e7cb56row3_col0\" class=\"data row3 col0\" >Mongo</td>\n",
       "                        <td id=\"T_078c1660_405e_11ec_bca7_60f262e7cb56row3_col1\" class=\"data row3 col1\" >main</td>\n",
       "                                <td id=\"T_078c1660_405e_11ec_bca7_60f262e7cb56row3_col3\" class=\"data row3 col3\" >1</td>\n",
       "                        <td id=\"T_078c1660_405e_11ec_bca7_60f262e7cb56row3_col4\" class=\"data row3 col4\" >60</td>\n",
       "                        <td id=\"T_078c1660_405e_11ec_bca7_60f262e7cb56row3_col5\" class=\"data row3 col5\" >416</td>\n",
       "                        <td id=\"T_078c1660_405e_11ec_bca7_60f262e7cb56row3_col6\" class=\"data row3 col6\" >142.800000</td>\n",
       "                        <td id=\"T_078c1660_405e_11ec_bca7_60f262e7cb56row3_col7\" class=\"data row3 col7\" >3%</td>\n",
       "                        <td id=\"T_078c1660_405e_11ec_bca7_60f262e7cb56row3_col8\" class=\"data row3 col8\" > 99.70%</td>\n",
       "                        <td id=\"T_078c1660_405e_11ec_bca7_60f262e7cb56row3_col9\" class=\"data row3 col9\" > 846.98MB</td>\n",
       "                        <td id=\"T_078c1660_405e_11ec_bca7_60f262e7cb56row3_col10\" class=\"data row3 col10\" > 5.33%</td>\n",
       "                        <td id=\"T_078c1660_405e_11ec_bca7_60f262e7cb56row3_col11\" class=\"data row3 col11\" > 1671.70MB</td>\n",
       "                        <td id=\"T_078c1660_405e_11ec_bca7_60f262e7cb56row3_col12\" class=\"data row3 col12\" > 10.52%</td>\n",
       "            </tr>\n",
       "            <tr>\n",
       "                                <td id=\"T_078c1660_405e_11ec_bca7_60f262e7cb56row4_col0\" class=\"data row4 col0\" >Mongo</td>\n",
       "                        <td id=\"T_078c1660_405e_11ec_bca7_60f262e7cb56row4_col1\" class=\"data row4 col1\" >main</td>\n",
       "                                <td id=\"T_078c1660_405e_11ec_bca7_60f262e7cb56row4_col3\" class=\"data row4 col3\" >1</td>\n",
       "                        <td id=\"T_078c1660_405e_11ec_bca7_60f262e7cb56row4_col4\" class=\"data row4 col4\" >100</td>\n",
       "                        <td id=\"T_078c1660_405e_11ec_bca7_60f262e7cb56row4_col5\" class=\"data row4 col5\" >657</td>\n",
       "                        <td id=\"T_078c1660_405e_11ec_bca7_60f262e7cb56row4_col6\" class=\"data row4 col6\" >151.000000</td>\n",
       "                        <td id=\"T_078c1660_405e_11ec_bca7_60f262e7cb56row4_col7\" class=\"data row4 col7\" >3%</td>\n",
       "                        <td id=\"T_078c1660_405e_11ec_bca7_60f262e7cb56row4_col8\" class=\"data row4 col8\" > 99.90%</td>\n",
       "                        <td id=\"T_078c1660_405e_11ec_bca7_60f262e7cb56row4_col9\" class=\"data row4 col9\" > 0MB</td>\n",
       "                        <td id=\"T_078c1660_405e_11ec_bca7_60f262e7cb56row4_col10\" class=\"data row4 col10\" > 0%</td>\n",
       "                        <td id=\"T_078c1660_405e_11ec_bca7_60f262e7cb56row4_col11\" class=\"data row4 col11\" > 1848.12MB</td>\n",
       "                        <td id=\"T_078c1660_405e_11ec_bca7_60f262e7cb56row4_col12\" class=\"data row4 col12\" > 11.63%</td>\n",
       "            </tr>\n",
       "            <tr>\n",
       "                                <td id=\"T_078c1660_405e_11ec_bca7_60f262e7cb56row5_col0\" class=\"data row5 col0\" >Mongo</td>\n",
       "                        <td id=\"T_078c1660_405e_11ec_bca7_60f262e7cb56row5_col1\" class=\"data row5 col1\" >CoreFix-mem-idx-2.0.0-snap</td>\n",
       "                                <td id=\"T_078c1660_405e_11ec_bca7_60f262e7cb56row5_col3\" class=\"data row5 col3\" >1</td>\n",
       "                        <td id=\"T_078c1660_405e_11ec_bca7_60f262e7cb56row5_col4\" class=\"data row5 col4\" >1</td>\n",
       "                        <td id=\"T_078c1660_405e_11ec_bca7_60f262e7cb56row5_col5\" class=\"data row5 col5\" >3</td>\n",
       "                        <td id=\"T_078c1660_405e_11ec_bca7_60f262e7cb56row5_col6\" class=\"data row5 col6\" >246.800000</td>\n",
       "                        <td id=\"T_078c1660_405e_11ec_bca7_60f262e7cb56row5_col7\" class=\"data row5 col7\" >26%</td>\n",
       "                        <td id=\"T_078c1660_405e_11ec_bca7_60f262e7cb56row5_col8\" class=\"data row5 col8\" > 23.70%</td>\n",
       "                        <td id=\"T_078c1660_405e_11ec_bca7_60f262e7cb56row5_col9\" class=\"data row5 col9\" > 482.32MB</td>\n",
       "                        <td id=\"T_078c1660_405e_11ec_bca7_60f262e7cb56row5_col10\" class=\"data row5 col10\" > 3.03%</td>\n",
       "                        <td id=\"T_078c1660_405e_11ec_bca7_60f262e7cb56row5_col11\" class=\"data row5 col11\" > 1385.05MB</td>\n",
       "                        <td id=\"T_078c1660_405e_11ec_bca7_60f262e7cb56row5_col12\" class=\"data row5 col12\" > 8.72%</td>\n",
       "            </tr>\n",
       "            <tr>\n",
       "                                <td id=\"T_078c1660_405e_11ec_bca7_60f262e7cb56row6_col0\" class=\"data row6 col0\" >Mongo</td>\n",
       "                        <td id=\"T_078c1660_405e_11ec_bca7_60f262e7cb56row6_col1\" class=\"data row6 col1\" >CoreFix-mem-idx-2.0.0-snap</td>\n",
       "                                <td id=\"T_078c1660_405e_11ec_bca7_60f262e7cb56row6_col3\" class=\"data row6 col3\" >1</td>\n",
       "                        <td id=\"T_078c1660_405e_11ec_bca7_60f262e7cb56row6_col4\" class=\"data row6 col4\" >4</td>\n",
       "                        <td id=\"T_078c1660_405e_11ec_bca7_60f262e7cb56row6_col5\" class=\"data row6 col5\" >5</td>\n",
       "                        <td id=\"T_078c1660_405e_11ec_bca7_60f262e7cb56row6_col6\" class=\"data row6 col6\" >664.800000</td>\n",
       "                        <td id=\"T_078c1660_405e_11ec_bca7_60f262e7cb56row6_col7\" class=\"data row6 col7\" >25%</td>\n",
       "                        <td id=\"T_078c1660_405e_11ec_bca7_60f262e7cb56row6_col8\" class=\"data row6 col8\" > 57.70%</td>\n",
       "                        <td id=\"T_078c1660_405e_11ec_bca7_60f262e7cb56row6_col9\" class=\"data row6 col9\" > 490.78MB</td>\n",
       "                        <td id=\"T_078c1660_405e_11ec_bca7_60f262e7cb56row6_col10\" class=\"data row6 col10\" > 3.08%</td>\n",
       "                        <td id=\"T_078c1660_405e_11ec_bca7_60f262e7cb56row6_col11\" class=\"data row6 col11\" > 1402.92MB</td>\n",
       "                        <td id=\"T_078c1660_405e_11ec_bca7_60f262e7cb56row6_col12\" class=\"data row6 col12\" > 8.83%</td>\n",
       "            </tr>\n",
       "            <tr>\n",
       "                                <td id=\"T_078c1660_405e_11ec_bca7_60f262e7cb56row7_col0\" class=\"data row7 col0\" >Mongo</td>\n",
       "                        <td id=\"T_078c1660_405e_11ec_bca7_60f262e7cb56row7_col1\" class=\"data row7 col1\" >CoreFix-mem-idx-2.0.0-snap</td>\n",
       "                                <td id=\"T_078c1660_405e_11ec_bca7_60f262e7cb56row7_col3\" class=\"data row7 col3\" >1</td>\n",
       "                        <td id=\"T_078c1660_405e_11ec_bca7_60f262e7cb56row7_col4\" class=\"data row7 col4\" >8</td>\n",
       "                        <td id=\"T_078c1660_405e_11ec_bca7_60f262e7cb56row7_col5\" class=\"data row7 col5\" >8</td>\n",
       "                        <td id=\"T_078c1660_405e_11ec_bca7_60f262e7cb56row7_col6\" class=\"data row7 col6\" >916.100000</td>\n",
       "                        <td id=\"T_078c1660_405e_11ec_bca7_60f262e7cb56row7_col7\" class=\"data row7 col7\" >13%</td>\n",
       "                        <td id=\"T_078c1660_405e_11ec_bca7_60f262e7cb56row7_col8\" class=\"data row7 col8\" > 73.00%</td>\n",
       "                        <td id=\"T_078c1660_405e_11ec_bca7_60f262e7cb56row7_col9\" class=\"data row7 col9\" > 504.51MB</td>\n",
       "                        <td id=\"T_078c1660_405e_11ec_bca7_60f262e7cb56row7_col10\" class=\"data row7 col10\" > 3.17%</td>\n",
       "                        <td id=\"T_078c1660_405e_11ec_bca7_60f262e7cb56row7_col11\" class=\"data row7 col11\" > 1449.69MB</td>\n",
       "                        <td id=\"T_078c1660_405e_11ec_bca7_60f262e7cb56row7_col12\" class=\"data row7 col12\" > 9.12%</td>\n",
       "            </tr>\n",
       "            <tr>\n",
       "                                <td id=\"T_078c1660_405e_11ec_bca7_60f262e7cb56row8_col0\" class=\"data row8 col0\" >Mongo</td>\n",
       "                        <td id=\"T_078c1660_405e_11ec_bca7_60f262e7cb56row8_col1\" class=\"data row8 col1\" >CoreFix-mem-idx-2.0.0-snap</td>\n",
       "                                <td id=\"T_078c1660_405e_11ec_bca7_60f262e7cb56row8_col3\" class=\"data row8 col3\" >1</td>\n",
       "                        <td id=\"T_078c1660_405e_11ec_bca7_60f262e7cb56row8_col4\" class=\"data row8 col4\" >60</td>\n",
       "                        <td id=\"T_078c1660_405e_11ec_bca7_60f262e7cb56row8_col5\" class=\"data row8 col5\" >43</td>\n",
       "                        <td id=\"T_078c1660_405e_11ec_bca7_60f262e7cb56row8_col6\" class=\"data row8 col6\" >1359.100000</td>\n",
       "                        <td id=\"T_078c1660_405e_11ec_bca7_60f262e7cb56row8_col7\" class=\"data row8 col7\" >45%</td>\n",
       "                        <td id=\"T_078c1660_405e_11ec_bca7_60f262e7cb56row8_col8\" class=\"data row8 col8\" > 92.30%</td>\n",
       "                        <td id=\"T_078c1660_405e_11ec_bca7_60f262e7cb56row8_col9\" class=\"data row8 col9\" > 531.10MB</td>\n",
       "                        <td id=\"T_078c1660_405e_11ec_bca7_60f262e7cb56row8_col10\" class=\"data row8 col10\" > 3.34%</td>\n",
       "                        <td id=\"T_078c1660_405e_11ec_bca7_60f262e7cb56row8_col11\" class=\"data row8 col11\" > 1720.19MB</td>\n",
       "                        <td id=\"T_078c1660_405e_11ec_bca7_60f262e7cb56row8_col12\" class=\"data row8 col12\" > 10.83%</td>\n",
       "            </tr>\n",
       "            <tr>\n",
       "                                <td id=\"T_078c1660_405e_11ec_bca7_60f262e7cb56row9_col0\" class=\"data row9 col0\" >Mongo</td>\n",
       "                        <td id=\"T_078c1660_405e_11ec_bca7_60f262e7cb56row9_col1\" class=\"data row9 col1\" >CoreFix-mem-idx-2.0.0-snap</td>\n",
       "                                <td id=\"T_078c1660_405e_11ec_bca7_60f262e7cb56row9_col3\" class=\"data row9 col3\" >1</td>\n",
       "                        <td id=\"T_078c1660_405e_11ec_bca7_60f262e7cb56row9_col4\" class=\"data row9 col4\" >100</td>\n",
       "                        <td id=\"T_078c1660_405e_11ec_bca7_60f262e7cb56row9_col5\" class=\"data row9 col5\" >70</td>\n",
       "                        <td id=\"T_078c1660_405e_11ec_bca7_60f262e7cb56row9_col6\" class=\"data row9 col6\" >1408.200000</td>\n",
       "                        <td id=\"T_078c1660_405e_11ec_bca7_60f262e7cb56row9_col7\" class=\"data row9 col7\" >51%</td>\n",
       "                        <td id=\"T_078c1660_405e_11ec_bca7_60f262e7cb56row9_col8\" class=\"data row9 col8\" > 92.50%</td>\n",
       "                        <td id=\"T_078c1660_405e_11ec_bca7_60f262e7cb56row9_col9\" class=\"data row9 col9\" > 666.03MB</td>\n",
       "                        <td id=\"T_078c1660_405e_11ec_bca7_60f262e7cb56row9_col10\" class=\"data row9 col10\" > 4.19%</td>\n",
       "                        <td id=\"T_078c1660_405e_11ec_bca7_60f262e7cb56row9_col11\" class=\"data row9 col11\" > 1866.91MB</td>\n",
       "                        <td id=\"T_078c1660_405e_11ec_bca7_60f262e7cb56row9_col12\" class=\"data row9 col12\" > 11.75%</td>\n",
       "            </tr>\n",
       "            <tr>\n",
       "                                <td id=\"T_078c1660_405e_11ec_bca7_60f262e7cb56row10_col0\" class=\"data row10 col0\" >PostgresQL</td>\n",
       "                        <td id=\"T_078c1660_405e_11ec_bca7_60f262e7cb56row10_col1\" class=\"data row10 col1\" >main</td>\n",
       "                                <td id=\"T_078c1660_405e_11ec_bca7_60f262e7cb56row10_col3\" class=\"data row10 col3\" >1</td>\n",
       "                        <td id=\"T_078c1660_405e_11ec_bca7_60f262e7cb56row10_col4\" class=\"data row10 col4\" >1</td>\n",
       "                        <td id=\"T_078c1660_405e_11ec_bca7_60f262e7cb56row10_col5\" class=\"data row10 col5\" >2</td>\n",
       "                        <td id=\"T_078c1660_405e_11ec_bca7_60f262e7cb56row10_col6\" class=\"data row10 col6\" >469.400000</td>\n",
       "                        <td id=\"T_078c1660_405e_11ec_bca7_60f262e7cb56row10_col7\" class=\"data row10 col7\" >45%</td>\n",
       "                        <td id=\"T_078c1660_405e_11ec_bca7_60f262e7cb56row10_col8\" class=\"data row10 col8\" > 49.00%</td>\n",
       "                        <td id=\"T_078c1660_405e_11ec_bca7_60f262e7cb56row10_col9\" class=\"data row10 col9\" > 0MB</td>\n",
       "                        <td id=\"T_078c1660_405e_11ec_bca7_60f262e7cb56row10_col10\" class=\"data row10 col10\" > 0%</td>\n",
       "                        <td id=\"T_078c1660_405e_11ec_bca7_60f262e7cb56row10_col11\" class=\"data row10 col11\" > 2522.33MB</td>\n",
       "                        <td id=\"T_078c1660_405e_11ec_bca7_60f262e7cb56row10_col12\" class=\"data row10 col12\" > 15.88%</td>\n",
       "            </tr>\n",
       "            <tr>\n",
       "                                <td id=\"T_078c1660_405e_11ec_bca7_60f262e7cb56row11_col0\" class=\"data row11 col0\" >PostgresQL</td>\n",
       "                        <td id=\"T_078c1660_405e_11ec_bca7_60f262e7cb56row11_col1\" class=\"data row11 col1\" >main</td>\n",
       "                                <td id=\"T_078c1660_405e_11ec_bca7_60f262e7cb56row11_col3\" class=\"data row11 col3\" >1</td>\n",
       "                        <td id=\"T_078c1660_405e_11ec_bca7_60f262e7cb56row11_col4\" class=\"data row11 col4\" >4</td>\n",
       "                        <td id=\"T_078c1660_405e_11ec_bca7_60f262e7cb56row11_col5\" class=\"data row11 col5\" >3</td>\n",
       "                        <td id=\"T_078c1660_405e_11ec_bca7_60f262e7cb56row11_col6\" class=\"data row11 col6\" >1120.000000</td>\n",
       "                        <td id=\"T_078c1660_405e_11ec_bca7_60f262e7cb56row11_col7\" class=\"data row11 col7\" >55%</td>\n",
       "                        <td id=\"T_078c1660_405e_11ec_bca7_60f262e7cb56row11_col8\" class=\"data row11 col8\" > 70.00%</td>\n",
       "                        <td id=\"T_078c1660_405e_11ec_bca7_60f262e7cb56row11_col9\" class=\"data row11 col9\" > 0MB</td>\n",
       "                        <td id=\"T_078c1660_405e_11ec_bca7_60f262e7cb56row11_col10\" class=\"data row11 col10\" > 0%</td>\n",
       "                        <td id=\"T_078c1660_405e_11ec_bca7_60f262e7cb56row11_col11\" class=\"data row11 col11\" > 3439.49MB</td>\n",
       "                        <td id=\"T_078c1660_405e_11ec_bca7_60f262e7cb56row11_col12\" class=\"data row11 col12\" > 21.65%</td>\n",
       "            </tr>\n",
       "            <tr>\n",
       "                                <td id=\"T_078c1660_405e_11ec_bca7_60f262e7cb56row12_col0\" class=\"data row12 col0\" >PostgresQL</td>\n",
       "                        <td id=\"T_078c1660_405e_11ec_bca7_60f262e7cb56row12_col1\" class=\"data row12 col1\" >main</td>\n",
       "                                <td id=\"T_078c1660_405e_11ec_bca7_60f262e7cb56row12_col3\" class=\"data row12 col3\" >1</td>\n",
       "                        <td id=\"T_078c1660_405e_11ec_bca7_60f262e7cb56row12_col4\" class=\"data row12 col4\" >8</td>\n",
       "                        <td id=\"T_078c1660_405e_11ec_bca7_60f262e7cb56row12_col5\" class=\"data row12 col5\" >6</td>\n",
       "                        <td id=\"T_078c1660_405e_11ec_bca7_60f262e7cb56row12_col6\" class=\"data row12 col6\" >1247.000000</td>\n",
       "                        <td id=\"T_078c1660_405e_11ec_bca7_60f262e7cb56row12_col7\" class=\"data row12 col7\" >65%</td>\n",
       "                        <td id=\"T_078c1660_405e_11ec_bca7_60f262e7cb56row12_col8\" class=\"data row12 col8\" > 80.80%</td>\n",
       "                        <td id=\"T_078c1660_405e_11ec_bca7_60f262e7cb56row12_col9\" class=\"data row12 col9\" > 0MB</td>\n",
       "                        <td id=\"T_078c1660_405e_11ec_bca7_60f262e7cb56row12_col10\" class=\"data row12 col10\" > 0%</td>\n",
       "                        <td id=\"T_078c1660_405e_11ec_bca7_60f262e7cb56row12_col11\" class=\"data row12 col11\" > 3575.90MB</td>\n",
       "                        <td id=\"T_078c1660_405e_11ec_bca7_60f262e7cb56row12_col12\" class=\"data row12 col12\" > 22.51%</td>\n",
       "            </tr>\n",
       "            <tr>\n",
       "                                <td id=\"T_078c1660_405e_11ec_bca7_60f262e7cb56row13_col0\" class=\"data row13 col0\" >PostgresQL</td>\n",
       "                        <td id=\"T_078c1660_405e_11ec_bca7_60f262e7cb56row13_col1\" class=\"data row13 col1\" >main</td>\n",
       "                                <td id=\"T_078c1660_405e_11ec_bca7_60f262e7cb56row13_col3\" class=\"data row13 col3\" >1</td>\n",
       "                        <td id=\"T_078c1660_405e_11ec_bca7_60f262e7cb56row13_col4\" class=\"data row13 col4\" >60</td>\n",
       "                        <td id=\"T_078c1660_405e_11ec_bca7_60f262e7cb56row13_col5\" class=\"data row13 col5\" >48</td>\n",
       "                        <td id=\"T_078c1660_405e_11ec_bca7_60f262e7cb56row13_col6\" class=\"data row13 col6\" >1232.400000</td>\n",
       "                        <td id=\"T_078c1660_405e_11ec_bca7_60f262e7cb56row13_col7\" class=\"data row13 col7\" >51%</td>\n",
       "                        <td id=\"T_078c1660_405e_11ec_bca7_60f262e7cb56row13_col8\" class=\"data row13 col8\" > 81.40%</td>\n",
       "                        <td id=\"T_078c1660_405e_11ec_bca7_60f262e7cb56row13_col9\" class=\"data row13 col9\" > 0MB</td>\n",
       "                        <td id=\"T_078c1660_405e_11ec_bca7_60f262e7cb56row13_col10\" class=\"data row13 col10\" > 0%</td>\n",
       "                        <td id=\"T_078c1660_405e_11ec_bca7_60f262e7cb56row13_col11\" class=\"data row13 col11\" > 3528.60MB</td>\n",
       "                        <td id=\"T_078c1660_405e_11ec_bca7_60f262e7cb56row13_col12\" class=\"data row13 col12\" > 22.21%</td>\n",
       "            </tr>\n",
       "            <tr>\n",
       "                                <td id=\"T_078c1660_405e_11ec_bca7_60f262e7cb56row14_col0\" class=\"data row14 col0\" >PostgresQL</td>\n",
       "                        <td id=\"T_078c1660_405e_11ec_bca7_60f262e7cb56row14_col1\" class=\"data row14 col1\" >main</td>\n",
       "                                <td id=\"T_078c1660_405e_11ec_bca7_60f262e7cb56row14_col3\" class=\"data row14 col3\" >1</td>\n",
       "                        <td id=\"T_078c1660_405e_11ec_bca7_60f262e7cb56row14_col4\" class=\"data row14 col4\" >100</td>\n",
       "                        <td id=\"T_078c1660_405e_11ec_bca7_60f262e7cb56row14_col5\" class=\"data row14 col5\" >81</td>\n",
       "                        <td id=\"T_078c1660_405e_11ec_bca7_60f262e7cb56row14_col6\" class=\"data row14 col6\" >1221.800000</td>\n",
       "                        <td id=\"T_078c1660_405e_11ec_bca7_60f262e7cb56row14_col7\" class=\"data row14 col7\" >58%</td>\n",
       "                        <td id=\"T_078c1660_405e_11ec_bca7_60f262e7cb56row14_col8\" class=\"data row14 col8\" > 81.20%</td>\n",
       "                        <td id=\"T_078c1660_405e_11ec_bca7_60f262e7cb56row14_col9\" class=\"data row14 col9\" > 0MB</td>\n",
       "                        <td id=\"T_078c1660_405e_11ec_bca7_60f262e7cb56row14_col10\" class=\"data row14 col10\" > 0%</td>\n",
       "                        <td id=\"T_078c1660_405e_11ec_bca7_60f262e7cb56row14_col11\" class=\"data row14 col11\" > 3586.76MB</td>\n",
       "                        <td id=\"T_078c1660_405e_11ec_bca7_60f262e7cb56row14_col12\" class=\"data row14 col12\" > 22.58%</td>\n",
       "            </tr>\n",
       "            <tr>\n",
       "                                <td id=\"T_078c1660_405e_11ec_bca7_60f262e7cb56row15_col0\" class=\"data row15 col0\" >PostgresQL</td>\n",
       "                        <td id=\"T_078c1660_405e_11ec_bca7_60f262e7cb56row15_col1\" class=\"data row15 col1\" >CoreFix-mem-idx-2.0.0-snap</td>\n",
       "                                <td id=\"T_078c1660_405e_11ec_bca7_60f262e7cb56row15_col3\" class=\"data row15 col3\" >1</td>\n",
       "                        <td id=\"T_078c1660_405e_11ec_bca7_60f262e7cb56row15_col4\" class=\"data row15 col4\" >1</td>\n",
       "                        <td id=\"T_078c1660_405e_11ec_bca7_60f262e7cb56row15_col5\" class=\"data row15 col5\" >3</td>\n",
       "                        <td id=\"T_078c1660_405e_11ec_bca7_60f262e7cb56row15_col6\" class=\"data row15 col6\" >307.200000</td>\n",
       "                        <td id=\"T_078c1660_405e_11ec_bca7_60f262e7cb56row15_col7\" class=\"data row15 col7\" >8%</td>\n",
       "                        <td id=\"T_078c1660_405e_11ec_bca7_60f262e7cb56row15_col8\" class=\"data row15 col8\" > 23.50%</td>\n",
       "                        <td id=\"T_078c1660_405e_11ec_bca7_60f262e7cb56row15_col9\" class=\"data row15 col9\" > 455.33MB</td>\n",
       "                        <td id=\"T_078c1660_405e_11ec_bca7_60f262e7cb56row15_col10\" class=\"data row15 col10\" > 2.86%</td>\n",
       "                        <td id=\"T_078c1660_405e_11ec_bca7_60f262e7cb56row15_col11\" class=\"data row15 col11\" > 1079.36MB</td>\n",
       "                        <td id=\"T_078c1660_405e_11ec_bca7_60f262e7cb56row15_col12\" class=\"data row15 col12\" > 6.79%</td>\n",
       "            </tr>\n",
       "            <tr>\n",
       "                                <td id=\"T_078c1660_405e_11ec_bca7_60f262e7cb56row16_col0\" class=\"data row16 col0\" >PostgresQL</td>\n",
       "                        <td id=\"T_078c1660_405e_11ec_bca7_60f262e7cb56row16_col1\" class=\"data row16 col1\" >CoreFix-mem-idx-2.0.0-snap</td>\n",
       "                                <td id=\"T_078c1660_405e_11ec_bca7_60f262e7cb56row16_col3\" class=\"data row16 col3\" >1</td>\n",
       "                        <td id=\"T_078c1660_405e_11ec_bca7_60f262e7cb56row16_col4\" class=\"data row16 col4\" >4</td>\n",
       "                        <td id=\"T_078c1660_405e_11ec_bca7_60f262e7cb56row16_col5\" class=\"data row16 col5\" >4</td>\n",
       "                        <td id=\"T_078c1660_405e_11ec_bca7_60f262e7cb56row16_col6\" class=\"data row16 col6\" >855.700000</td>\n",
       "                        <td id=\"T_078c1660_405e_11ec_bca7_60f262e7cb56row16_col7\" class=\"data row16 col7\" >25%</td>\n",
       "                        <td id=\"T_078c1660_405e_11ec_bca7_60f262e7cb56row16_col8\" class=\"data row16 col8\" > 56.10%</td>\n",
       "                        <td id=\"T_078c1660_405e_11ec_bca7_60f262e7cb56row16_col9\" class=\"data row16 col9\" > 472.97MB</td>\n",
       "                        <td id=\"T_078c1660_405e_11ec_bca7_60f262e7cb56row16_col10\" class=\"data row16 col10\" > 2.97%</td>\n",
       "                        <td id=\"T_078c1660_405e_11ec_bca7_60f262e7cb56row16_col11\" class=\"data row16 col11\" > 1107.56MB</td>\n",
       "                        <td id=\"T_078c1660_405e_11ec_bca7_60f262e7cb56row16_col12\" class=\"data row16 col12\" > 6.97%</td>\n",
       "            </tr>\n",
       "            <tr>\n",
       "                                <td id=\"T_078c1660_405e_11ec_bca7_60f262e7cb56row17_col0\" class=\"data row17 col0\" >PostgresQL</td>\n",
       "                        <td id=\"T_078c1660_405e_11ec_bca7_60f262e7cb56row17_col1\" class=\"data row17 col1\" >CoreFix-mem-idx-2.0.0-snap</td>\n",
       "                                <td id=\"T_078c1660_405e_11ec_bca7_60f262e7cb56row17_col3\" class=\"data row17 col3\" >1</td>\n",
       "                        <td id=\"T_078c1660_405e_11ec_bca7_60f262e7cb56row17_col4\" class=\"data row17 col4\" >8</td>\n",
       "                        <td id=\"T_078c1660_405e_11ec_bca7_60f262e7cb56row17_col5\" class=\"data row17 col5\" >8</td>\n",
       "                        <td id=\"T_078c1660_405e_11ec_bca7_60f262e7cb56row17_col6\" class=\"data row17 col6\" >952.100000</td>\n",
       "                        <td id=\"T_078c1660_405e_11ec_bca7_60f262e7cb56row17_col7\" class=\"data row17 col7\" >23%</td>\n",
       "                        <td id=\"T_078c1660_405e_11ec_bca7_60f262e7cb56row17_col8\" class=\"data row17 col8\" > 61.50%</td>\n",
       "                        <td id=\"T_078c1660_405e_11ec_bca7_60f262e7cb56row17_col9\" class=\"data row17 col9\" > 481.37MB</td>\n",
       "                        <td id=\"T_078c1660_405e_11ec_bca7_60f262e7cb56row17_col10\" class=\"data row17 col10\" > 3.03%</td>\n",
       "                        <td id=\"T_078c1660_405e_11ec_bca7_60f262e7cb56row17_col11\" class=\"data row17 col11\" > 1110.23MB</td>\n",
       "                        <td id=\"T_078c1660_405e_11ec_bca7_60f262e7cb56row17_col12\" class=\"data row17 col12\" > 6.99%</td>\n",
       "            </tr>\n",
       "            <tr>\n",
       "                                <td id=\"T_078c1660_405e_11ec_bca7_60f262e7cb56row18_col0\" class=\"data row18 col0\" >PostgresQL</td>\n",
       "                        <td id=\"T_078c1660_405e_11ec_bca7_60f262e7cb56row18_col1\" class=\"data row18 col1\" >CoreFix-mem-idx-2.0.0-snap</td>\n",
       "                                <td id=\"T_078c1660_405e_11ec_bca7_60f262e7cb56row18_col3\" class=\"data row18 col3\" >1</td>\n",
       "                        <td id=\"T_078c1660_405e_11ec_bca7_60f262e7cb56row18_col4\" class=\"data row18 col4\" >60</td>\n",
       "                        <td id=\"T_078c1660_405e_11ec_bca7_60f262e7cb56row18_col5\" class=\"data row18 col5\" >64</td>\n",
       "                        <td id=\"T_078c1660_405e_11ec_bca7_60f262e7cb56row18_col6\" class=\"data row18 col6\" >921.100000</td>\n",
       "                        <td id=\"T_078c1660_405e_11ec_bca7_60f262e7cb56row18_col7\" class=\"data row18 col7\" >28%</td>\n",
       "                        <td id=\"T_078c1660_405e_11ec_bca7_60f262e7cb56row18_col8\" class=\"data row18 col8\" > 61.20%</td>\n",
       "                        <td id=\"T_078c1660_405e_11ec_bca7_60f262e7cb56row18_col9\" class=\"data row18 col9\" > 470.97MB</td>\n",
       "                        <td id=\"T_078c1660_405e_11ec_bca7_60f262e7cb56row18_col10\" class=\"data row18 col10\" > 2.96%</td>\n",
       "                        <td id=\"T_078c1660_405e_11ec_bca7_60f262e7cb56row18_col11\" class=\"data row18 col11\" > 1107.79MB</td>\n",
       "                        <td id=\"T_078c1660_405e_11ec_bca7_60f262e7cb56row18_col12\" class=\"data row18 col12\" > 6.97%</td>\n",
       "            </tr>\n",
       "            <tr>\n",
       "                                <td id=\"T_078c1660_405e_11ec_bca7_60f262e7cb56row19_col0\" class=\"data row19 col0\" >PostgresQL</td>\n",
       "                        <td id=\"T_078c1660_405e_11ec_bca7_60f262e7cb56row19_col1\" class=\"data row19 col1\" >CoreFix-mem-idx-2.0.0-snap</td>\n",
       "                                <td id=\"T_078c1660_405e_11ec_bca7_60f262e7cb56row19_col3\" class=\"data row19 col3\" >1</td>\n",
       "                        <td id=\"T_078c1660_405e_11ec_bca7_60f262e7cb56row19_col4\" class=\"data row19 col4\" >100</td>\n",
       "                        <td id=\"T_078c1660_405e_11ec_bca7_60f262e7cb56row19_col5\" class=\"data row19 col5\" >109</td>\n",
       "                        <td id=\"T_078c1660_405e_11ec_bca7_60f262e7cb56row19_col6\" class=\"data row19 col6\" >906.900000</td>\n",
       "                        <td id=\"T_078c1660_405e_11ec_bca7_60f262e7cb56row19_col7\" class=\"data row19 col7\" >35%</td>\n",
       "                        <td id=\"T_078c1660_405e_11ec_bca7_60f262e7cb56row19_col8\" class=\"data row19 col8\" > 62.50%</td>\n",
       "                        <td id=\"T_078c1660_405e_11ec_bca7_60f262e7cb56row19_col9\" class=\"data row19 col9\" > 485.60MB</td>\n",
       "                        <td id=\"T_078c1660_405e_11ec_bca7_60f262e7cb56row19_col10\" class=\"data row19 col10\" > 3.05%</td>\n",
       "                        <td id=\"T_078c1660_405e_11ec_bca7_60f262e7cb56row19_col11\" class=\"data row19 col11\" > 1126.44MB</td>\n",
       "                        <td id=\"T_078c1660_405e_11ec_bca7_60f262e7cb56row19_col12\" class=\"data row19 col12\" > 7.09%</td>\n",
       "            </tr>\n",
       "    </tbody></table>"
      ],
      "text/plain": [
       "<pandas.io.formats.style.Styler at 0x7f66fe0a5710>"
      ]
     },
     "execution_count": 25,
     "metadata": {},
     "output_type": "execute_result"
    }
   ],
   "source": [
    "raw.style.hide_index().hide_columns(['persistence-appVersion'])"
   ]
  },
  {
   "cell_type": "code",
   "execution_count": 27,
   "metadata": {},
   "outputs": [],
   "source": [
    "# downloadName=(deployment+'_'+startTime+'.csv').replace(':',\"_\").replace(' ',\"_\")\n",
    "# create_download_link(df=raw, filename=downloadName, title='Download detailed CSV report')"
   ]
  }
 ],
 "metadata": {
  "interpreter": {
   "hash": "0b197e7cd239e0557bcf884355273a83d9eccef3c1a284029edb23c50286b415"
  },
  "kernelspec": {
   "display_name": "Python 3.6.8 64-bit ('kogito-venv')",
   "name": "python3"
  },
  "language_info": {
   "codemirror_mode": {
    "name": "ipython",
    "version": 3
   },
   "file_extension": ".py",
   "mimetype": "text/x-python",
   "name": "python",
   "nbconvert_exporter": "python",
   "pygments_lexer": "ipython3",
   "version": "3.6.8"
  },
  "orig_nbformat": 4
 },
 "nbformat": 4,
 "nbformat_minor": 2
}