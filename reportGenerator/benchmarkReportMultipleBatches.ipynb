{
 "cells": [
  {
   "cell_type": "code",
   "execution_count": 230,
   "metadata": {},
   "outputs": [],
   "source": [
    "import base64\n",
    "from IPython.display import HTML\n",
    "import json\n",
    "import pandas as pd\n",
    "import sys\n",
    "import time\n",
    "import datetime\n",
    "from IPython.display import Markdown\n",
    "import matplotlib.pyplot as plt"
   ]
  },
  {
   "cell_type": "code",
   "execution_count": 231,
   "metadata": {},
   "outputs": [],
   "source": [
    "# to adapt report do:\n",
    "# update `numOfBatches` to test-run batches count that we want to process\n",
    "# update the `comparator['compareField']` logic\n",
    "\n",
    "numOfBatches=2"
   ]
  },
  {
   "cell_type": "code",
   "execution_count": 232,
   "metadata": {},
   "outputs": [],
   "source": [
    "def durationWithUnit(counter, timeOrCount, type):\n",
    "    durationWithUnit=str(timeOrCount)\n",
    "    if batches[counter]['Tests']['type']=='duration':\n",
    "        return durationWithUnit+ ' sec'\n",
    "    else:\n",
    "        return durationSingleTest + ' requests'"
   ]
  },
  {
   "cell_type": "code",
   "execution_count": 233,
   "metadata": {},
   "outputs": [],
   "source": [
    "def create_download_link( df, title = \"Download CSV file\", filename = \"data.csv\"):\n",
    "    csv = df.to_csv()\n",
    "    b64 = base64.b64encode(csv.encode())\n",
    "    payload = b64.decode()\n",
    "    html = '<a download=\"{filename}\" href=\"data:text/csv;base64,{payload}\" target=\"_blank\">{title}</a>'\n",
    "    html = html.format(payload=payload,title=title,filename=filename)\n",
    "    return HTML(html)"
   ]
  },
  {
   "cell_type": "code",
   "execution_count": 234,
   "metadata": {},
   "outputs": [],
   "source": [
    "def addCommonData(resultData):\n",
    "    resultData['Deployment']=deployment\n",
    "    resultData['Total CPUs']=totalCPUs\n",
    "    resultData['Total Memory GB']=totalMemoryGB\n",
    "    resultData['Duration Single Test']=durationSingleTest\n",
    "    resultData['Persistence']=persistence\n",
    "    resultData['App Process URL']=appProcessUrl"
   ]
  },
  {
   "cell_type": "code",
   "execution_count": 235,
   "metadata": {},
   "outputs": [],
   "source": [
    "counter=1\n",
    "batches=[]\n",
    "while counter <= numOfBatches:\n",
    "    batches.append(json.load(open('test-run'+str(counter)+'/batch.json')))\n",
    "    #print(batches[counter-1])\n",
    "    counter=counter+1"
   ]
  },
  {
   "cell_type": "code",
   "execution_count": 236,
   "metadata": {},
   "outputs": [],
   "source": [
    "counter=0\n",
    "sysDatas=[]\n",
    "localHosts=['LOCAL','VM1','VM2']\n",
    "while counter < numOfBatches:\n",
    "    systemDataName='test-run'+str(counter+1)+'/results/system-data.csv'\n",
    "    systemData = pd.read_csv(systemDataName, names=['javaversion', 'totalCPUs', 'totalMemoryGB'],header=0, index_col=False)\n",
    "    sysData={}\n",
    "    sysData['comments']=batches[counter]['Comments']\n",
    "    sysData['jdkVersion']=systemData.javaversion[0]\n",
    "    sysData['totalCPUs']=systemData.totalCPUs[0]\n",
    "    sysData['totalMemoryGB']=systemData.totalMemoryGB[0]\n",
    "    sysData['appVersion']=batches[counter]['InfraSetup']['appVersion']\n",
    "    sysData['tester']=batches[counter]['InfraSetup']['tester']\n",
    "    sysData['app']=batches[counter]['InfraSetup']['app']\n",
    "    sysData['testEngine']=batches[counter]['InfraSetup']['testClient']\n",
    "    sysData['deployment']='On-premise' if (sysData['tester']['name'] in localHosts and sysData['app']['name'] in localHosts) else 'Cloud'\n",
    "    appProcess=batches[counter]['Process']\n",
    "    appProcessUrl=appProcess['schema']+\"://\"+appProcess['url']+':'+str(appProcess['port'])+'/'+appProcess['app']\n",
    "    sysData['appProcessUrl']=appProcessUrl\n",
    "    appInfra=batches[counter]['AppInfra']\n",
    "    persistence='Mongo' if appInfra['Mongo']=='yes' else 'PostgresQL' if appInfra['PostgresQL']=='yes' else 'None'\n",
    "    sysData['persistence']=persistence\n",
    "\n",
    "    sysDatas.append(sysData)\n",
    "    counter=counter+1\n",
    "    #print(sysData)\n"
   ]
  },
  {
   "cell_type": "code",
   "execution_count": 237,
   "metadata": {},
   "outputs": [],
   "source": [
    "counter=0\n",
    "testConfigs=[]\n",
    "while counter < numOfBatches:\n",
    "    testConfig={}\n",
    "    testConfig['durationSingleTest']=durationWithUnit(counter, batches[counter]['Tests']['timeOrCount'], batches[counter]['Tests']['type'])\n",
    "    testConfig['warmup']='no' if batches[counter]['Warmup']==\"no\" else durationWithUnit(counter, batches[counter]['Warmup']['timeOrCount'], batches[counter]['Warmup']['type'])\n",
    "    testConfig['properties']=batches[counter]['ProcessProperties']\n",
    "\n",
    "    testConfigs.append(testConfig)\n",
    "    counter=counter+1\n",
    "    # print(testConfig)\n"
   ]
  },
  {
   "cell_type": "code",
   "execution_count": 238,
   "metadata": {},
   "outputs": [],
   "source": [
    "# the data which will be the data we compare the runs against\n",
    "counter=0\n",
    "comparators=[]\n",
    "while counter < numOfBatches:\n",
    "    comparator={}\n",
    "    # comparator['compareField']=sysDatas[counter]['persistence']+'-'+sysDatas[counter]['appVersion']\n",
    "    comparator['compareField']=batches[counter]['ProcessProperties'][0]['val']  # workers num\n",
    "\n",
    "    comparators.append(comparator)\n",
    "    counter=counter+1\n",
    "    # print(comparator)"
   ]
  },
  {
   "cell_type": "code",
   "execution_count": 239,
   "metadata": {},
   "outputs": [],
   "source": [
    "counter=0\n",
    "testRun=0\n",
    "testResults=[]\n",
    "minTimestamp=sys.maxsize\n",
    "maxTimestamp=0\n",
    "while counter < numOfBatches:\n",
    "    testRun=0\n",
    "    for test in batches[counter]['Tests']['runs']:\n",
    "        csvName='test-run'+str(counter+1)+'/results/res'+str(testRun)+'.csv'\n",
    "        result = pd.read_csv(csvName, header=0, index_col=False)\n",
    "        # print(result)\n",
    "        resultData={}\n",
    "        resultData['persistence']=sysDatas[counter]['persistence']\n",
    "        resultData['appVersion']=sysDatas[counter]['appVersion']\n",
    "    \n",
    "        resultData['#Replicas']=test['replicas']\n",
    "        resultData['#Users']=test['users']\n",
    "        resultData['MRT(ms)']=result.Average[0]\n",
    "        resultData['RPS']=result.Throughput[0]\n",
    "        # print(resultData)\n",
    "\n",
    "        usageName='test-run'+str(counter+1)+'/results/usage'+str(testRun)+'.csv'\n",
    "        usage = pd.read_csv(usageName, \n",
    "            names=['appCpuUsage', 'systemCpuUsage', 'appMemoryUsage', 'appMemoryUsagePercentage', 'systemMemoryUsage', 'systemMemoryUsagePercentage'],\n",
    "            header=0, index_col=False)\n",
    "        resultData['CPU Usage-app']=usage.appCpuUsage[0]\n",
    "        resultData['CPU Usage-system']=usage.systemCpuUsage[0]\n",
    "        resultData['Memory Usage-app']=usage.appMemoryUsage[0]\n",
    "        resultData['Memory Usage%-app']=usage.appMemoryUsagePercentage[0]\n",
    "        resultData['Memory Usage-system']=usage.systemMemoryUsage[0]\n",
    "        resultData['Memory Usage%-system']=usage.systemMemoryUsagePercentage[0]\n",
    "        # print(resultData)\n",
    "\n",
    "        # here add column or column combination to use as aggregator e.g. persistence+appversion or a property\n",
    "        resultData['compareField']=comparators[counter]['compareField']\n",
    "\n",
    "\n",
    "        testResults.append(resultData)\n",
    "\n",
    "        jtlName='test-run'+str(counter+1)+'/results/res'+str(testRun)+'.jtl'\n",
    "        jtl = pd.read_csv(jtlName, header=0, index_col=False)\n",
    "        minTimestamp=min([minTimestamp, jtl.timeStamp[0]])\n",
    "        maxTimestamp=max([maxTimestamp, jtl.timeStamp[len(jtl)-1]])\n",
    "\n",
    "        testRun=testRun+1\n",
    "    counter=counter+1\n",
    "\n",
    "# print(testResults)"
   ]
  },
  {
   "cell_type": "code",
   "execution_count": 240,
   "metadata": {},
   "outputs": [],
   "source": [
    "startTime=time.strftime('%Y-%m-%d %H:%M:%S', time.localtime(minTimestamp/1000))\n",
    "endTime=time.strftime('%Y-%m-%d %H:%M:%S', time.localtime(maxTimestamp/1000))\n",
    "batchDuration=str(datetime.timedelta(seconds=(maxTimestamp/1000-minTimestamp/1000)))\n",
    "\n",
    "# counter=0\n",
    "# aggData='* Persistence | Kogito version combinations:'\n",
    "# while counter < numOfBatches:\n",
    "#     aggData+='\\n - '+sysDatas[counter]['persistence'] + ' | ' + sysDatas[counter]['appVersion']\n",
    "#     counter=counter+1\n",
    "\n",
    "\n",
    "counter=0\n",
    "aggData='* Workers/Pool limits:'\n",
    "while counter < numOfBatches:\n",
    "    aggData+='\\n    - Series '+str(counter+1)+' Limit:'+str(comparators[counter]['compareField'])\n",
    "    counter=counter+1\n",
    "# print(aggData)    "
   ]
  },
  {
   "cell_type": "code",
   "execution_count": 241,
   "metadata": {},
   "outputs": [
    {
     "data": {
      "text/markdown": [
       "\n",
       "# Kogito Benchmark Multiple Batch Runs\n",
       "## Test Environment\n",
       "* Deployment:  On-premise\n",
       "* Duration of each test: 120 sec\n",
       "* Warmup: 60 sec\n",
       "* Process: http://appeng-vm02.cloud.lab.eng.bos.redhat.com:8080/simpleHT\n",
       "* Workers/Pool limits:\n",
       "    - Series 1 Limit:10\n",
       "    - Series 2 Limit:100\n",
       "\n"
      ],
      "text/plain": [
       "<IPython.core.display.Markdown object>"
      ]
     },
     "execution_count": 241,
     "metadata": {},
     "output_type": "execute_result"
    }
   ],
   "source": [
    "Markdown(\"\"\"\n",
    "# Kogito Benchmark Multiple Batch Runs\n",
    "## Test Environment\n",
    "* Deployment:  {deployment}\n",
    "* Duration of each test: {durationSingleTest}\n",
    "* Warmup: {warmup}\n",
    "* Process: {appProcessUrl}\n",
    "{aggDataOut}\n",
    "\n",
    "\"\"\".format(deployment=sysDatas[0]['deployment'],aggDataOut=aggData,\n",
    "durationSingleTest=testConfigs[0]['durationSingleTest'],warmup=testConfigs[0]['warmup'],appProcessUrl=sysDatas[0]['appProcessUrl']))\n",
    "\n"
   ]
  },
  {
   "cell_type": "code",
   "execution_count": 242,
   "metadata": {},
   "outputs": [
    {
     "data": {
      "text/markdown": [
       "\n",
       "## Test Client\n",
       "* Client host: appeng-vm01.cloud.lab.eng.bos.redhat.com\n",
       "* Test engine:  JMETER\n"
      ],
      "text/plain": [
       "<IPython.core.display.Markdown object>"
      ]
     },
     "execution_count": 242,
     "metadata": {},
     "output_type": "execute_result"
    }
   ],
   "source": [
    "Markdown(\"\"\"\n",
    "## Test Client\n",
    "* Client host: {hostname}\n",
    "* Test engine:  {testEngine}\n",
    "\"\"\".format(hostname=sysDatas[0]['tester']['hostname'],testEngine=sysDatas[0]['testEngine']))\n"
   ]
  },
  {
   "cell_type": "code",
   "execution_count": 243,
   "metadata": {},
   "outputs": [
    {
     "data": {
      "text/markdown": [
       "\n",
       "## Test Service\n",
       "* Service host: appeng-vm02.cloud.lab.eng.bos.redhat.com (4 CPU cores, 15.51 GB Memory)\n",
       "* JDK version:  openjdk version \"11.0.12\" 2021-07-20 LTS\n",
       "* Workers/Pool limits:\n",
       "    - Series 1 Limit:10\n",
       "    - Series 2 Limit:100\n"
      ],
      "text/plain": [
       "<IPython.core.display.Markdown object>"
      ]
     },
     "execution_count": 243,
     "metadata": {},
     "output_type": "execute_result"
    }
   ],
   "source": [
    "Markdown(\"\"\"\n",
    "## Test Service\n",
    "* Service host: {hostname} ({totalCPUs} CPU cores, {totalMemoryGB} GB Memory)\n",
    "* JDK version:  {jdkVersion}\n",
    "{aggDataOut}\n",
    "\"\"\".format(hostname=sysDatas[0]['app']['hostname'],totalCPUs=sysDatas[0]['totalCPUs'],totalMemoryGB=sysDatas[0]['totalMemoryGB'],\n",
    "jdkVersion=sysDatas[0]['jdkVersion'],aggDataOut=aggData))\n"
   ]
  },
  {
   "cell_type": "markdown",
   "metadata": {},
   "source": [
    "## Execution Report\n",
    "### Chart view"
   ]
  },
  {
   "cell_type": "code",
   "execution_count": 244,
   "metadata": {},
   "outputs": [],
   "source": [
    "raw = pd.DataFrame(testResults)\n",
    "# print(raw)"
   ]
  },
  {
   "cell_type": "code",
   "execution_count": 245,
   "metadata": {},
   "outputs": [],
   "source": [
    "# raw.insert(1,'Start Time', startTime)\n",
    "# raw.insert(2,'End Time', endTime)\n",
    "# raw.insert(3,'Batch Duration', batchDuration)\n"
   ]
  },
  {
   "cell_type": "code",
   "execution_count": 246,
   "metadata": {},
   "outputs": [],
   "source": [
    "users = raw['#Users'].unique()\n",
    "# print(users)"
   ]
  },
  {
   "cell_type": "code",
   "execution_count": 247,
   "metadata": {},
   "outputs": [],
   "source": [
    "counter=0\n",
    "combinedData = {}\n",
    "for r in raw['compareField'].unique():\n",
    "    colValues = raw[raw['compareField']==r]['MRT(ms)'].values\n",
    "    combinedData[r] = colValues    "
   ]
  },
  {
   "cell_type": "code",
   "execution_count": 248,
   "metadata": {},
   "outputs": [
    {
     "data": {
      "image/png": "[encoded data removed]",
      "text/plain": [
       "<Figure size 720x288 with 1 Axes>"
      ]
     },
     "metadata": {
      "needs_background": "light"
     },
     "output_type": "display_data"
    }
   ],
   "source": [
    "mrtDF = pd.DataFrame(combinedData, index=users)\n",
    "mrtDF.plot(kind=\"bar\")\n",
    "plt.title(\"Mean Response Time\")\n",
    "plt.xlabel(\"# Users\")\n",
    "plt.ylabel(\"MRT (ms)\")\n",
    "plt.rcParams[\"figure.figsize\"] = (10,4)\n"
   ]
  },
  {
   "cell_type": "code",
   "execution_count": 249,
   "metadata": {},
   "outputs": [],
   "source": [
    "counter=0\n",
    "combinedData = {}\n",
    "for r in raw['compareField'].unique():\n",
    "    colValues = raw[raw['compareField']==r]['RPS'].values\n",
    "    combinedData[r] = colValues    "
   ]
  },
  {
   "cell_type": "code",
   "execution_count": 250,
   "metadata": {},
   "outputs": [
    {
     "data": {
      "image/png": "[encoded data removed]",
      "text/plain": [
       "<Figure size 720x288 with 1 Axes>"
      ]
     },
     "metadata": {
      "needs_background": "light"
     },
     "output_type": "display_data"
    }
   ],
   "source": [
    "mrtDF = pd.DataFrame(combinedData, index=users)\n",
    "\n",
    "mrtDF.plot(kind=\"bar\")\n",
    "plt.title(\"Requests per Second\")\n",
    "plt.xlabel(\"# Users\")\n",
    "plt.ylabel(\"RPS\")\n",
    "plt.rcParams[\"figure.figsize\"] = (10,4)"
   ]
  },
  {
   "cell_type": "code",
   "execution_count": 251,
   "metadata": {},
   "outputs": [],
   "source": [
    "counter=0\n",
    "combinedData = {}\n",
    "for r in raw['compareField'].unique():\n",
    "    colValues = raw[raw['compareField']==r]['CPU Usage-app'].str.replace('%','').apply(pd.to_numeric).values\n",
    "    combinedData[r] = colValues      "
   ]
  },
  {
   "cell_type": "code",
   "execution_count": 252,
   "metadata": {},
   "outputs": [
    {
     "data": {
      "image/png": "[encoded data removed]",
      "text/plain": [
       "<Figure size 720x288 with 1 Axes>"
      ]
     },
     "metadata": {
      "needs_background": "light"
     },
     "output_type": "display_data"
    }
   ],
   "source": [
    "cpusDF = pd.DataFrame(combinedData, index=users)\n",
    "cpusDF.plot(kind=\"bar\")\n",
    "plt.title(\"CPU Usage (app)\")\n",
    "plt.xlabel(\"# Users\")\n",
    "plt.ylabel(\"CPU usage\")\n",
    "plt.rcParams[\"figure.figsize\"] = (10,4)"
   ]
  },
  {
   "cell_type": "code",
   "execution_count": 253,
   "metadata": {},
   "outputs": [],
   "source": [
    "counter=0\n",
    "combinedData = {}\n",
    "for r in raw['compareField'].unique():\n",
    "    colValues = raw[raw['compareField']==r]['Memory Usage-app'].str.replace('MB','').apply(pd.to_numeric).values\n",
    "    combinedData[r] = colValues  "
   ]
  },
  {
   "cell_type": "code",
   "execution_count": 254,
   "metadata": {},
   "outputs": [
    {
     "data": {
      "image/png": "[encoded data removed]",
      "text/plain": [
       "<Figure size 720x288 with 1 Axes>"
      ]
     },
     "metadata": {
      "needs_background": "light"
     },
     "output_type": "display_data"
    }
   ],
   "source": [
    "memoryUsageDF = pd.DataFrame(combinedData, index=users)\n",
    "memoryUsageDF.plot(kind=\"bar\")\n",
    "plt.title(\"Memory Usage (app)\")\n",
    "plt.xlabel(\"# Users\")\n",
    "plt.ylabel(\"Memory usage\")\n",
    "plt.rcParams[\"figure.figsize\"] = (10,4)"
   ]
  },
  {
   "cell_type": "markdown",
   "metadata": {},
   "source": [
    "### Tabular view"
   ]
  },
  {
   "cell_type": "code",
   "execution_count": 255,
   "metadata": {},
   "outputs": [
    {
     "data": {
      "text/html": [
       "<style  type=\"text/css\" >\n",
       "</style><table id=\"T_5789acce_407a_11ec_8aed_60f262e7cb56\" ><thead>    <tr>        <th class=\"col_heading level0 col0\" >persistence</th>        <th class=\"col_heading level0 col1\" >appVersion</th>        <th class=\"col_heading level0 col2\" >#Replicas</th>        <th class=\"col_heading level0 col3\" >#Users</th>        <th class=\"col_heading level0 col4\" >MRT(ms)</th>        <th class=\"col_heading level0 col5\" >RPS</th>        <th class=\"col_heading level0 col6\" >CPU Usage-app</th>        <th class=\"col_heading level0 col7\" >CPU Usage-system</th>        <th class=\"col_heading level0 col8\" >Memory Usage-app</th>        <th class=\"col_heading level0 col9\" >Memory Usage%-app</th>        <th class=\"col_heading level0 col10\" >Memory Usage-system</th>        <th class=\"col_heading level0 col11\" >Memory Usage%-system</th>    </tr></thead><tbody>\n",
       "                <tr>\n",
       "                                <td id=\"T_5789acce_407a_11ec_8aed_60f262e7cb56row0_col0\" class=\"data row0 col0\" >Mongo</td>\n",
       "                        <td id=\"T_5789acce_407a_11ec_8aed_60f262e7cb56row0_col1\" class=\"data row0 col1\" >CoreFix-mem-idx-2.0.0-snap</td>\n",
       "                        <td id=\"T_5789acce_407a_11ec_8aed_60f262e7cb56row0_col2\" class=\"data row0 col2\" >1</td>\n",
       "                        <td id=\"T_5789acce_407a_11ec_8aed_60f262e7cb56row0_col3\" class=\"data row0 col3\" >1</td>\n",
       "                        <td id=\"T_5789acce_407a_11ec_8aed_60f262e7cb56row0_col4\" class=\"data row0 col4\" >4</td>\n",
       "                        <td id=\"T_5789acce_407a_11ec_8aed_60f262e7cb56row0_col5\" class=\"data row0 col5\" >232.000000</td>\n",
       "                        <td id=\"T_5789acce_407a_11ec_8aed_60f262e7cb56row0_col6\" class=\"data row0 col6\" >10%</td>\n",
       "                        <td id=\"T_5789acce_407a_11ec_8aed_60f262e7cb56row0_col7\" class=\"data row0 col7\" > 23.50%</td>\n",
       "                        <td id=\"T_5789acce_407a_11ec_8aed_60f262e7cb56row0_col8\" class=\"data row0 col8\" > 484.61MB</td>\n",
       "                        <td id=\"T_5789acce_407a_11ec_8aed_60f262e7cb56row0_col9\" class=\"data row0 col9\" > 3.05%</td>\n",
       "                        <td id=\"T_5789acce_407a_11ec_8aed_60f262e7cb56row0_col10\" class=\"data row0 col10\" > 1362.14MB</td>\n",
       "                        <td id=\"T_5789acce_407a_11ec_8aed_60f262e7cb56row0_col11\" class=\"data row0 col11\" > 8.57%</td>\n",
       "                    </tr>\n",
       "            <tr>\n",
       "                                <td id=\"T_5789acce_407a_11ec_8aed_60f262e7cb56row1_col0\" class=\"data row1 col0\" >Mongo</td>\n",
       "                        <td id=\"T_5789acce_407a_11ec_8aed_60f262e7cb56row1_col1\" class=\"data row1 col1\" >CoreFix-mem-idx-2.0.0-snap</td>\n",
       "                        <td id=\"T_5789acce_407a_11ec_8aed_60f262e7cb56row1_col2\" class=\"data row1 col2\" >1</td>\n",
       "                        <td id=\"T_5789acce_407a_11ec_8aed_60f262e7cb56row1_col3\" class=\"data row1 col3\" >5</td>\n",
       "                        <td id=\"T_5789acce_407a_11ec_8aed_60f262e7cb56row1_col4\" class=\"data row1 col4\" >6</td>\n",
       "                        <td id=\"T_5789acce_407a_11ec_8aed_60f262e7cb56row1_col5\" class=\"data row1 col5\" >723.800000</td>\n",
       "                        <td id=\"T_5789acce_407a_11ec_8aed_60f262e7cb56row1_col6\" class=\"data row1 col6\" >28%</td>\n",
       "                        <td id=\"T_5789acce_407a_11ec_8aed_60f262e7cb56row1_col7\" class=\"data row1 col7\" > 63.70%</td>\n",
       "                        <td id=\"T_5789acce_407a_11ec_8aed_60f262e7cb56row1_col8\" class=\"data row1 col8\" > 511.27MB</td>\n",
       "                        <td id=\"T_5789acce_407a_11ec_8aed_60f262e7cb56row1_col9\" class=\"data row1 col9\" > 3.21%</td>\n",
       "                        <td id=\"T_5789acce_407a_11ec_8aed_60f262e7cb56row1_col10\" class=\"data row1 col10\" > 1447.92MB</td>\n",
       "                        <td id=\"T_5789acce_407a_11ec_8aed_60f262e7cb56row1_col11\" class=\"data row1 col11\" > 9.11%</td>\n",
       "                    </tr>\n",
       "            <tr>\n",
       "                                <td id=\"T_5789acce_407a_11ec_8aed_60f262e7cb56row2_col0\" class=\"data row2 col0\" >Mongo</td>\n",
       "                        <td id=\"T_5789acce_407a_11ec_8aed_60f262e7cb56row2_col1\" class=\"data row2 col1\" >CoreFix-mem-idx-2.0.0-snap</td>\n",
       "                        <td id=\"T_5789acce_407a_11ec_8aed_60f262e7cb56row2_col2\" class=\"data row2 col2\" >1</td>\n",
       "                        <td id=\"T_5789acce_407a_11ec_8aed_60f262e7cb56row2_col3\" class=\"data row2 col3\" >10</td>\n",
       "                        <td id=\"T_5789acce_407a_11ec_8aed_60f262e7cb56row2_col4\" class=\"data row2 col4\" >10</td>\n",
       "                        <td id=\"T_5789acce_407a_11ec_8aed_60f262e7cb56row2_col5\" class=\"data row2 col5\" >959.200000</td>\n",
       "                        <td id=\"T_5789acce_407a_11ec_8aed_60f262e7cb56row2_col6\" class=\"data row2 col6\" >40%</td>\n",
       "                        <td id=\"T_5789acce_407a_11ec_8aed_60f262e7cb56row2_col7\" class=\"data row2 col7\" > 72.20%</td>\n",
       "                        <td id=\"T_5789acce_407a_11ec_8aed_60f262e7cb56row2_col8\" class=\"data row2 col8\" > 497.21MB</td>\n",
       "                        <td id=\"T_5789acce_407a_11ec_8aed_60f262e7cb56row2_col9\" class=\"data row2 col9\" > 3.13%</td>\n",
       "                        <td id=\"T_5789acce_407a_11ec_8aed_60f262e7cb56row2_col10\" class=\"data row2 col10\" > 1432.59MB</td>\n",
       "                        <td id=\"T_5789acce_407a_11ec_8aed_60f262e7cb56row2_col11\" class=\"data row2 col11\" > 9.01%</td>\n",
       "                    </tr>\n",
       "            <tr>\n",
       "                                <td id=\"T_5789acce_407a_11ec_8aed_60f262e7cb56row3_col0\" class=\"data row3 col0\" >Mongo</td>\n",
       "                        <td id=\"T_5789acce_407a_11ec_8aed_60f262e7cb56row3_col1\" class=\"data row3 col1\" >CoreFix-mem-idx-2.0.0-snap</td>\n",
       "                        <td id=\"T_5789acce_407a_11ec_8aed_60f262e7cb56row3_col2\" class=\"data row3 col2\" >1</td>\n",
       "                        <td id=\"T_5789acce_407a_11ec_8aed_60f262e7cb56row3_col3\" class=\"data row3 col3\" >100</td>\n",
       "                        <td id=\"T_5789acce_407a_11ec_8aed_60f262e7cb56row3_col4\" class=\"data row3 col4\" >108</td>\n",
       "                        <td id=\"T_5789acce_407a_11ec_8aed_60f262e7cb56row3_col5\" class=\"data row3 col5\" >918.100000</td>\n",
       "                        <td id=\"T_5789acce_407a_11ec_8aed_60f262e7cb56row3_col6\" class=\"data row3 col6\" >40%</td>\n",
       "                        <td id=\"T_5789acce_407a_11ec_8aed_60f262e7cb56row3_col7\" class=\"data row3 col7\" > 78.60%</td>\n",
       "                        <td id=\"T_5789acce_407a_11ec_8aed_60f262e7cb56row3_col8\" class=\"data row3 col8\" > 532.23MB</td>\n",
       "                        <td id=\"T_5789acce_407a_11ec_8aed_60f262e7cb56row3_col9\" class=\"data row3 col9\" > 3.35%</td>\n",
       "                        <td id=\"T_5789acce_407a_11ec_8aed_60f262e7cb56row3_col10\" class=\"data row3 col10\" > 1484.33MB</td>\n",
       "                        <td id=\"T_5789acce_407a_11ec_8aed_60f262e7cb56row3_col11\" class=\"data row3 col11\" > 9.34%</td>\n",
       "                    </tr>\n",
       "            <tr>\n",
       "                                <td id=\"T_5789acce_407a_11ec_8aed_60f262e7cb56row4_col0\" class=\"data row4 col0\" >Mongo</td>\n",
       "                        <td id=\"T_5789acce_407a_11ec_8aed_60f262e7cb56row4_col1\" class=\"data row4 col1\" >CoreFix-mem-idx-2.0.0-snap</td>\n",
       "                        <td id=\"T_5789acce_407a_11ec_8aed_60f262e7cb56row4_col2\" class=\"data row4 col2\" >1</td>\n",
       "                        <td id=\"T_5789acce_407a_11ec_8aed_60f262e7cb56row4_col3\" class=\"data row4 col3\" >1</td>\n",
       "                        <td id=\"T_5789acce_407a_11ec_8aed_60f262e7cb56row4_col4\" class=\"data row4 col4\" >4</td>\n",
       "                        <td id=\"T_5789acce_407a_11ec_8aed_60f262e7cb56row4_col5\" class=\"data row4 col5\" >233.900000</td>\n",
       "                        <td id=\"T_5789acce_407a_11ec_8aed_60f262e7cb56row4_col6\" class=\"data row4 col6\" >8%</td>\n",
       "                        <td id=\"T_5789acce_407a_11ec_8aed_60f262e7cb56row4_col7\" class=\"data row4 col7\" > 23.40%</td>\n",
       "                        <td id=\"T_5789acce_407a_11ec_8aed_60f262e7cb56row4_col8\" class=\"data row4 col8\" > 470.17MB</td>\n",
       "                        <td id=\"T_5789acce_407a_11ec_8aed_60f262e7cb56row4_col9\" class=\"data row4 col9\" > 2.96%</td>\n",
       "                        <td id=\"T_5789acce_407a_11ec_8aed_60f262e7cb56row4_col10\" class=\"data row4 col10\" > 1363.77MB</td>\n",
       "                        <td id=\"T_5789acce_407a_11ec_8aed_60f262e7cb56row4_col11\" class=\"data row4 col11\" > 8.58%</td>\n",
       "                    </tr>\n",
       "            <tr>\n",
       "                                <td id=\"T_5789acce_407a_11ec_8aed_60f262e7cb56row5_col0\" class=\"data row5 col0\" >Mongo</td>\n",
       "                        <td id=\"T_5789acce_407a_11ec_8aed_60f262e7cb56row5_col1\" class=\"data row5 col1\" >CoreFix-mem-idx-2.0.0-snap</td>\n",
       "                        <td id=\"T_5789acce_407a_11ec_8aed_60f262e7cb56row5_col2\" class=\"data row5 col2\" >1</td>\n",
       "                        <td id=\"T_5789acce_407a_11ec_8aed_60f262e7cb56row5_col3\" class=\"data row5 col3\" >5</td>\n",
       "                        <td id=\"T_5789acce_407a_11ec_8aed_60f262e7cb56row5_col4\" class=\"data row5 col4\" >6</td>\n",
       "                        <td id=\"T_5789acce_407a_11ec_8aed_60f262e7cb56row5_col5\" class=\"data row5 col5\" >721.600000</td>\n",
       "                        <td id=\"T_5789acce_407a_11ec_8aed_60f262e7cb56row5_col6\" class=\"data row5 col6\" >23%</td>\n",
       "                        <td id=\"T_5789acce_407a_11ec_8aed_60f262e7cb56row5_col7\" class=\"data row5 col7\" > 59.60%</td>\n",
       "                        <td id=\"T_5789acce_407a_11ec_8aed_60f262e7cb56row5_col8\" class=\"data row5 col8\" > 569.10MB</td>\n",
       "                        <td id=\"T_5789acce_407a_11ec_8aed_60f262e7cb56row5_col9\" class=\"data row5 col9\" > 3.58%</td>\n",
       "                        <td id=\"T_5789acce_407a_11ec_8aed_60f262e7cb56row5_col10\" class=\"data row5 col10\" > 1495.86MB</td>\n",
       "                        <td id=\"T_5789acce_407a_11ec_8aed_60f262e7cb56row5_col11\" class=\"data row5 col11\" > 9.41%</td>\n",
       "                    </tr>\n",
       "            <tr>\n",
       "                                <td id=\"T_5789acce_407a_11ec_8aed_60f262e7cb56row6_col0\" class=\"data row6 col0\" >Mongo</td>\n",
       "                        <td id=\"T_5789acce_407a_11ec_8aed_60f262e7cb56row6_col1\" class=\"data row6 col1\" >CoreFix-mem-idx-2.0.0-snap</td>\n",
       "                        <td id=\"T_5789acce_407a_11ec_8aed_60f262e7cb56row6_col2\" class=\"data row6 col2\" >1</td>\n",
       "                        <td id=\"T_5789acce_407a_11ec_8aed_60f262e7cb56row6_col3\" class=\"data row6 col3\" >10</td>\n",
       "                        <td id=\"T_5789acce_407a_11ec_8aed_60f262e7cb56row6_col4\" class=\"data row6 col4\" >10</td>\n",
       "                        <td id=\"T_5789acce_407a_11ec_8aed_60f262e7cb56row6_col5\" class=\"data row6 col5\" >957.200000</td>\n",
       "                        <td id=\"T_5789acce_407a_11ec_8aed_60f262e7cb56row6_col6\" class=\"data row6 col6\" >40%</td>\n",
       "                        <td id=\"T_5789acce_407a_11ec_8aed_60f262e7cb56row6_col7\" class=\"data row6 col7\" > 76.80%</td>\n",
       "                        <td id=\"T_5789acce_407a_11ec_8aed_60f262e7cb56row6_col8\" class=\"data row6 col8\" > 474.17MB</td>\n",
       "                        <td id=\"T_5789acce_407a_11ec_8aed_60f262e7cb56row6_col9\" class=\"data row6 col9\" > 2.98%</td>\n",
       "                        <td id=\"T_5789acce_407a_11ec_8aed_60f262e7cb56row6_col10\" class=\"data row6 col10\" > 1425.64MB</td>\n",
       "                        <td id=\"T_5789acce_407a_11ec_8aed_60f262e7cb56row6_col11\" class=\"data row6 col11\" > 8.97%</td>\n",
       "                    </tr>\n",
       "            <tr>\n",
       "                                <td id=\"T_5789acce_407a_11ec_8aed_60f262e7cb56row7_col0\" class=\"data row7 col0\" >Mongo</td>\n",
       "                        <td id=\"T_5789acce_407a_11ec_8aed_60f262e7cb56row7_col1\" class=\"data row7 col1\" >CoreFix-mem-idx-2.0.0-snap</td>\n",
       "                        <td id=\"T_5789acce_407a_11ec_8aed_60f262e7cb56row7_col2\" class=\"data row7 col2\" >1</td>\n",
       "                        <td id=\"T_5789acce_407a_11ec_8aed_60f262e7cb56row7_col3\" class=\"data row7 col3\" >100</td>\n",
       "                        <td id=\"T_5789acce_407a_11ec_8aed_60f262e7cb56row7_col4\" class=\"data row7 col4\" >73</td>\n",
       "                        <td id=\"T_5789acce_407a_11ec_8aed_60f262e7cb56row7_col5\" class=\"data row7 col5\" >1350.400000</td>\n",
       "                        <td id=\"T_5789acce_407a_11ec_8aed_60f262e7cb56row7_col6\" class=\"data row7 col6\" >48%</td>\n",
       "                        <td id=\"T_5789acce_407a_11ec_8aed_60f262e7cb56row7_col7\" class=\"data row7 col7\" > 95.70%</td>\n",
       "                        <td id=\"T_5789acce_407a_11ec_8aed_60f262e7cb56row7_col8\" class=\"data row7 col8\" > 638.92MB</td>\n",
       "                        <td id=\"T_5789acce_407a_11ec_8aed_60f262e7cb56row7_col9\" class=\"data row7 col9\" > 4.02%</td>\n",
       "                        <td id=\"T_5789acce_407a_11ec_8aed_60f262e7cb56row7_col10\" class=\"data row7 col10\" > 1824.14MB</td>\n",
       "                        <td id=\"T_5789acce_407a_11ec_8aed_60f262e7cb56row7_col11\" class=\"data row7 col11\" > 11.48%</td>\n",
       "                    </tr>\n",
       "    </tbody></table>"
      ],
      "text/plain": [
       "<pandas.io.formats.style.Styler at 0x7f6425b2a780>"
      ]
     },
     "execution_count": 255,
     "metadata": {},
     "output_type": "execute_result"
    }
   ],
   "source": [
    "raw.style.hide_index().hide_columns(['compareField'])"
   ]
  },
  {
   "cell_type": "code",
   "execution_count": 256,
   "metadata": {},
   "outputs": [],
   "source": [
    "# downloadName=(deployment+'_'+startTime+'.csv').replace(':',\"_\").replace(' ',\"_\")\n",
    "# create_download_link(df=raw, filename=downloadName, title='Download detailed CSV report')"
   ]
  }
 ],
 "metadata": {
  "interpreter": {
   "hash": "0b197e7cd239e0557bcf884355273a83d9eccef3c1a284029edb23c50286b415"
  },
  "kernelspec": {
   "display_name": "Python 3.6.8 64-bit ('kogito-venv')",
   "name": "python3"
  },
  "language_info": {
   "codemirror_mode": {
    "name": "ipython",
    "version": 3
   },
   "file_extension": ".py",
   "mimetype": "text/x-python",
   "name": "python",
   "nbconvert_exporter": "python",
   "pygments_lexer": "ipython3",
   "version": "3.6.8"
  },
  "orig_nbformat": 4
 },
 "nbformat": 4,
 "nbformat_minor": 2
}