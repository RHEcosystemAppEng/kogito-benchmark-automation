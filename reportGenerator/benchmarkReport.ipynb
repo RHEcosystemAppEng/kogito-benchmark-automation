{
 "cells": [
  {
   "cell_type": "markdown",
   "metadata": {},
   "source": [
    "# Kogito Benchmart Report"
   ]
  },
  {
   "cell_type": "code",
   "execution_count": 24,
   "metadata": {},
   "outputs": [
    {
     "name": "stdout",
     "output_type": "stream",
     "text": [
      "{'Infra': {'Mongo': 'yes', 'PostgresQL': 'yes', 'DataIndex': 'no', 'Kafka': 'no'}, 'Tester': 'LOCAL', 'App': 'LOCAL', 'Process': {'schema': 'http', 'url': 'localhost', 'port': 8080, 'app': 'simpleHT'}, 'Warmup': {'enabled': 'yes', 'users': 10, 'duration': 1}, 'Tests': [{'replicas': 1, 'users': 1, 'requests': 2}, {'replicas': 1, 'users': 1, 'requests': 4}]}\n",
      "{'#Replicas': 1, '#Users': 1, 'MRT(ms)': 32, 'RPS': 30.3}\n",
      "{'#Replicas': 1, '#Users': 1, 'MRT(ms)': 30, 'RPS': 32.3}\n",
      "[{'#Replicas': 1, '#Users': 1, 'MRT(ms)': 32, 'RPS': 30.3}, {'#Replicas': 1, '#Users': 1, 'MRT(ms)': 30, 'RPS': 32.3}]\n"
     ]
    }
   ],
   "source": [
    "import json\n",
    "import csv\n",
    "\n",
    "batch=json.load(open('test-run/batch.json'))\n",
    "# print(batch)\n",
    "\n",
    "results=[]\n",
    "counter=0\n",
    "for test in batch['Tests']:\n",
    "    # print(test)\n",
    "    csvName='test-run/results/res'+str(counter)+'.csv'\n",
    "    result = pd.read_csv(csvName, header=0, index_col=False)\n",
    "    # print(result)\n",
    "    resultData={}\n",
    "    resultData['#Replicas']=test['replicas']\n",
    "    resultData['#Users']=test['users']\n",
    "    resultData['MRT(ms)']=result.Average[0]\n",
    "    resultData['RPS']=result.Throughput[0]\n",
    "    # print(resultData)\n",
    "    results.append(resultData)\n",
    "    counter=counter+1\n",
    "\n",
    "print(results)"
   ]
  },
  {
   "cell_type": "code",
   "execution_count": 1,
   "metadata": {},
   "outputs": [
    {
     "data": {
      "text/markdown": [
       "| Target   |      Specs      |\n",
       "|----------|:-------------|\n",
       "| Execution time |  Fri 15 Oct 2021 11:30:36 CEST|\n",
       "| Deployment |  Cloud|\n",
       "| Test Client |  appeng-vm01.cloud.lab.eng.bos.redhat.com|\n",
       "| Test Service |  process-quarkus-example-fsi-kogito-benchmarking.apps.mw-ocp4.cloud.lab.eng.bos.redhat.com|\n",
       "| Kogito version |  1.11.0.Final|\n",
       "| JDK version |  openjdk 11.0.12 2021-07-20 LTS|\n",
       "| Duration in minutes of each test |  2|\n",
       "| Test engine |  JMeter|"
      ],
      "text/plain": [
       "<IPython.core.display.Markdown object>"
      ]
     },
     "metadata": {},
     "output_type": "display_data"
    }
   ],
   "source": [
    "import configparser\n",
    "config=configparser.ConfigParser()\n",
    "config.read('execution.properties')\n",
    "env=config['ENV']\n",
    "\n",
    "from IPython.display import display, Markdown\n",
    "display(Markdown(\"| Target   |      Specs      |\\n\"+\n",
    "    \"|----------|:-------------|\\n\"+\n",
    "    f\"| Execution time |  {env['time']}|\\n\"+\n",
    "    f\"| Deployment |  {env['deployment']}|\\n\"+\n",
    "    f\"| Test Client |  {env['deployment.test']}|\\n\"+\n",
    "    f\"| Test Service |  {env['deployment.server']}|\\n\"+\n",
    "    f\"| Kogito version |  {env['kogito.version']}|\\n\"+\n",
    "    f\"| JDK version |  {env['jdk.version']}|\\n\"+\n",
    "    f\"| Duration in minutes of each test |  {env['duration.minutes']}|\\n\"+\n",
    "    f\"| Test engine |  {env['test.engine']}|\"))\n"
   ]
  },
  {
   "cell_type": "markdown",
   "metadata": {},
   "source": [
    "## Execution Report\n",
    "### Chart view"
   ]
  },
  {
   "cell_type": "code",
   "execution_count": 2,
   "metadata": {},
   "outputs": [],
   "source": [
    "import pandas as pd\n",
    "raw = pd.read_csv(\"rawdata.csv\", names=['#Replicas','#Users','MRT(ms)','RPS'], header=0, index_col=False)"
   ]
  },
  {
   "cell_type": "code",
   "execution_count": 3,
   "metadata": {},
   "outputs": [],
   "source": [
    "mrt = {}\n",
    "for r in raw['#Replicas'].unique():\n",
    "    mrtValues = raw[raw['#Replicas']==r]['MRT(ms)'].values\n",
    "    mrt['MRT#'+str(r)] = mrtValues\n",
    "# print(mrt)"
   ]
  },
  {
   "cell_type": "code",
   "execution_count": 4,
   "metadata": {},
   "outputs": [],
   "source": [
    "users = raw['#Users'].unique()\n",
    "# print(users)"
   ]
  },
  {
   "cell_type": "code",
   "execution_count": 5,
   "metadata": {},
   "outputs": [
    {
     "data": {
      "image/png": "[encoded data removed]",
      "text/plain": [
       "<Figure size 720x288 with 1 Axes>"
      ]
     },
     "metadata": {
      "needs_background": "light"
     },
     "output_type": "display_data"
    }
   ],
   "source": [
    "import matplotlib.pyplot as plt\n",
    "plt.rcParams[\"figure.figsize\"] = (10,4)\n",
    "\n",
    "mrtDF = pd.DataFrame(mrt\n",
    "                   , index=users)\n",
    "\n",
    "mrtDF.plot(kind=\"bar\")\n",
    "plt.title(\"Mean Response Time\")\n",
    "plt.xlabel(\"# Users\")\n",
    "plt.ylabel(\"MRT (ms)\")\n",
    "plt.rcParams[\"figure.figsize\"] = (10,4)\n"
   ]
  },
  {
   "cell_type": "code",
   "execution_count": 6,
   "metadata": {},
   "outputs": [],
   "source": [
    "rps = {}\n",
    "for r in raw['#Replicas'].unique():\n",
    "    rpsValues = raw[raw['#Replicas']==r]['RPS'].values\n",
    "    rps['RPS#'+str(r)] = rpsValues"
   ]
  },
  {
   "cell_type": "code",
   "execution_count": 7,
   "metadata": {},
   "outputs": [
    {
     "data": {
      "text/plain": [
       "Text(0, 0.5, 'RPS')"
      ]
     },
     "execution_count": 7,
     "metadata": {},
     "output_type": "execute_result"
    },
    {
     "data": {
      "image/png": "[encoded data removed]",
      "text/plain": [
       "<Figure size 720x288 with 1 Axes>"
      ]
     },
     "metadata": {
      "needs_background": "light"
     },
     "output_type": "display_data"
    }
   ],
   "source": [
    "mrtDF = pd.DataFrame(rps\n",
    "                   , index=users)\n",
    "\n",
    "mrtDF.plot(kind=\"bar\")\n",
    "plt.title(\"Requests per Second\")\n",
    "plt.xlabel(\"# Users\")\n",
    "plt.ylabel(\"RPS\")"
   ]
  },
  {
   "cell_type": "markdown",
   "metadata": {},
   "source": [
    "### Tabular view"
   ]
  },
  {
   "cell_type": "code",
   "execution_count": 8,
   "metadata": {},
   "outputs": [
    {
     "data": {
      "text/html": [
       "<style type=\"text/css\">\n",
       "</style>\n",
       "<table id=\"T_fe3fb_\">\n",
       "  <thead>\n",
       "    <tr>\n",
       "      <th class=\"col_heading level0 col0\" >#Replicas</th>\n",
       "      <th class=\"col_heading level0 col1\" >#Users</th>\n",
       "      <th class=\"col_heading level0 col2\" >MRT(ms)</th>\n",
       "      <th class=\"col_heading level0 col3\" >RPS</th>\n",
       "    </tr>\n",
       "  </thead>\n",
       "  <tbody>\n",
       "    <tr>\n",
       "      <td id=\"T_fe3fb_row0_col0\" class=\"data row0 col0\" >1</td>\n",
       "      <td id=\"T_fe3fb_row0_col1\" class=\"data row0 col1\" >1</td>\n",
       "      <td id=\"T_fe3fb_row0_col2\" class=\"data row0 col2\" >13</td>\n",
       "      <td id=\"T_fe3fb_row0_col3\" class=\"data row0 col3\" >73</td>\n",
       "    </tr>\n",
       "    <tr>\n",
       "      <td id=\"T_fe3fb_row1_col0\" class=\"data row1 col0\" >2</td>\n",
       "      <td id=\"T_fe3fb_row1_col1\" class=\"data row1 col1\" >1</td>\n",
       "      <td id=\"T_fe3fb_row1_col2\" class=\"data row1 col2\" >13</td>\n",
       "      <td id=\"T_fe3fb_row1_col3\" class=\"data row1 col3\" >68</td>\n",
       "    </tr>\n",
       "    <tr>\n",
       "      <td id=\"T_fe3fb_row2_col0\" class=\"data row2 col0\" >5</td>\n",
       "      <td id=\"T_fe3fb_row2_col1\" class=\"data row2 col1\" >1</td>\n",
       "      <td id=\"T_fe3fb_row2_col2\" class=\"data row2 col2\" >16</td>\n",
       "      <td id=\"T_fe3fb_row2_col3\" class=\"data row2 col3\" >57</td>\n",
       "    </tr>\n",
       "    <tr>\n",
       "      <td id=\"T_fe3fb_row3_col0\" class=\"data row3 col0\" >1</td>\n",
       "      <td id=\"T_fe3fb_row3_col1\" class=\"data row3 col1\" >4</td>\n",
       "      <td id=\"T_fe3fb_row3_col2\" class=\"data row3 col2\" >26</td>\n",
       "      <td id=\"T_fe3fb_row3_col3\" class=\"data row3 col3\" >149</td>\n",
       "    </tr>\n",
       "    <tr>\n",
       "      <td id=\"T_fe3fb_row4_col0\" class=\"data row4 col0\" >2</td>\n",
       "      <td id=\"T_fe3fb_row4_col1\" class=\"data row4 col1\" >4</td>\n",
       "      <td id=\"T_fe3fb_row4_col2\" class=\"data row4 col2\" >26</td>\n",
       "      <td id=\"T_fe3fb_row4_col3\" class=\"data row4 col3\" >147</td>\n",
       "    </tr>\n",
       "    <tr>\n",
       "      <td id=\"T_fe3fb_row5_col0\" class=\"data row5 col0\" >5</td>\n",
       "      <td id=\"T_fe3fb_row5_col1\" class=\"data row5 col1\" >4</td>\n",
       "      <td id=\"T_fe3fb_row5_col2\" class=\"data row5 col2\" >29</td>\n",
       "      <td id=\"T_fe3fb_row5_col3\" class=\"data row5 col3\" >132</td>\n",
       "    </tr>\n",
       "    <tr>\n",
       "      <td id=\"T_fe3fb_row6_col0\" class=\"data row6 col0\" >1</td>\n",
       "      <td id=\"T_fe3fb_row6_col1\" class=\"data row6 col1\" >8</td>\n",
       "      <td id=\"T_fe3fb_row6_col2\" class=\"data row6 col2\" >44</td>\n",
       "      <td id=\"T_fe3fb_row6_col3\" class=\"data row6 col3\" >178</td>\n",
       "    </tr>\n",
       "    <tr>\n",
       "      <td id=\"T_fe3fb_row7_col0\" class=\"data row7 col0\" >2</td>\n",
       "      <td id=\"T_fe3fb_row7_col1\" class=\"data row7 col1\" >8</td>\n",
       "      <td id=\"T_fe3fb_row7_col2\" class=\"data row7 col2\" >44</td>\n",
       "      <td id=\"T_fe3fb_row7_col3\" class=\"data row7 col3\" >179</td>\n",
       "    </tr>\n",
       "    <tr>\n",
       "      <td id=\"T_fe3fb_row8_col0\" class=\"data row8 col0\" >5</td>\n",
       "      <td id=\"T_fe3fb_row8_col1\" class=\"data row8 col1\" >8</td>\n",
       "      <td id=\"T_fe3fb_row8_col2\" class=\"data row8 col2\" >48</td>\n",
       "      <td id=\"T_fe3fb_row8_col3\" class=\"data row8 col3\" >201</td>\n",
       "    </tr>\n",
       "    <tr>\n",
       "      <td id=\"T_fe3fb_row9_col0\" class=\"data row9 col0\" >1</td>\n",
       "      <td id=\"T_fe3fb_row9_col1\" class=\"data row9 col1\" >100</td>\n",
       "      <td id=\"T_fe3fb_row9_col2\" class=\"data row9 col2\" >469</td>\n",
       "      <td id=\"T_fe3fb_row9_col3\" class=\"data row9 col3\" >212</td>\n",
       "    </tr>\n",
       "    <tr>\n",
       "      <td id=\"T_fe3fb_row10_col0\" class=\"data row10 col0\" >2</td>\n",
       "      <td id=\"T_fe3fb_row10_col1\" class=\"data row10 col1\" >100</td>\n",
       "      <td id=\"T_fe3fb_row10_col2\" class=\"data row10 col2\" >470</td>\n",
       "      <td id=\"T_fe3fb_row10_col3\" class=\"data row10 col3\" >211</td>\n",
       "    </tr>\n",
       "    <tr>\n",
       "      <td id=\"T_fe3fb_row11_col0\" class=\"data row11 col0\" >5</td>\n",
       "      <td id=\"T_fe3fb_row11_col1\" class=\"data row11 col1\" >100</td>\n",
       "      <td id=\"T_fe3fb_row11_col2\" class=\"data row11 col2\" >519</td>\n",
       "      <td id=\"T_fe3fb_row11_col3\" class=\"data row11 col3\" >191</td>\n",
       "    </tr>\n",
       "  </tbody>\n",
       "</table>\n"
      ],
      "text/plain": [
       "<pandas.io.formats.style.Styler at 0x123f49220>"
      ]
     },
     "execution_count": 8,
     "metadata": {},
     "output_type": "execute_result"
    }
   ],
   "source": [
    "raw.style.hide_index()"
   ]
  }
 ],
 "metadata": {
  "interpreter": {
   "hash": "293585b38e2a0038b1ddbb96059912485db9ec5b95e8cabc9f97287d864788c2"
  },
  "kernelspec": {
   "display_name": "Python 3.9.7 64-bit ('kogito-venv': venv)",
   "name": "python3"
  },
  "language_info": {
   "codemirror_mode": {
    "name": "ipython",
    "version": 3
   },
   "file_extension": ".py",
   "mimetype": "text/x-python",
   "name": "python",
   "nbconvert_exporter": "python",
   "pygments_lexer": "ipython3",
   "version": "3.9.7"
  },
  "orig_nbformat": 4
 },
 "nbformat": 4,
 "nbformat_minor": 2
}
