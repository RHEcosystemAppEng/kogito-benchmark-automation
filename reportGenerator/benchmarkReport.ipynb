{
 "cells": [
  {
   "cell_type": "code",
   "execution_count": 28,
   "metadata": {},
   "outputs": [],
   "source": [
    "import base64\n",
    "from IPython.display import HTML\n",
    "import json\n",
    "import pandas as pd\n",
    "import sys\n",
    "import time\n",
    "import datetime\n",
    "from IPython.display import Markdown\n",
    "import matplotlib.pyplot as plt"
   ]
  },
  {
   "cell_type": "code",
   "execution_count": 29,
   "metadata": {},
   "outputs": [],
   "source": [
    "def durationWithUnit(timeOrCount, type):\n",
    "    durationWithUnit=str(timeOrCount)\n",
    "    if batch['Tests']['type']=='duration':\n",
    "        return durationWithUnit+ ' sec'\n",
    "    else:\n",
    "        return durationSingleTest + ' requests'"
   ]
  },
  {
   "cell_type": "code",
   "execution_count": 30,
   "metadata": {},
   "outputs": [],
   "source": [
    "def create_download_link( df, title = \"Download CSV file\", filename = \"data.csv\"):\n",
    "    csv = df.to_csv()\n",
    "    b64 = base64.b64encode(csv.encode())\n",
    "    payload = b64.decode()\n",
    "    html = '<a download=\"{filename}\" href=\"data:text/csv;base64,{payload}\" target=\"_blank\">{title}</a>'\n",
    "    html = html.format(payload=payload,title=title,filename=filename)\n",
    "    return HTML(html)"
   ]
  },
  {
   "cell_type": "code",
   "execution_count": 31,
   "metadata": {},
   "outputs": [],
   "source": [
    "def addCommonData(resultData):\n",
    "    resultData['Deployment']=deployment\n",
    "    resultData['Total CPUs']=totalCPUs\n",
    "    resultData['Total Memory GB']=totalMemoryGB\n",
    "    resultData['Duration Single Test']=durationSingleTest\n",
    "    resultData['Persistence']=persistence\n",
    "    resultData['App Process URL']=appProcessUrl"
   ]
  },
  {
   "cell_type": "code",
   "execution_count": 32,
   "metadata": {},
   "outputs": [],
   "source": [
    "batch=json.load(open('test-run/batch.json'))\n",
    "# print(batch)"
   ]
  },
  {
   "cell_type": "code",
   "execution_count": 33,
   "metadata": {},
   "outputs": [],
   "source": [
    "# TODO: restore once usage is available\n",
    "systemDataName='test-run/results/system-data.csv'\n",
    "#  systemDataName='system-data.csv'\n",
    "systemData = pd.read_csv(systemDataName, names=['javaversion', 'totalCPUs', 'totalMemoryGB'],header=0, index_col=False)\n",
    "totalCPUs=systemData.totalCPUs[0]\n",
    "totalMemoryGB=systemData.totalMemoryGB[0]"
   ]
  },
  {
   "cell_type": "code",
   "execution_count": 34,
   "metadata": {},
   "outputs": [],
   "source": [
    "tester=batch['InfraSetup']['tester']\n",
    "app=batch['InfraSetup']['app']\n",
    "localHosts=['LOCAL','VM1','VM2']\n",
    "deployment='On-premise' if (tester['name'] in localHosts and app['name'] in localHosts) else 'Cloud'\n",
    "\n",
    "appInfra=batch['AppInfra']\n",
    "persistence='Mongo' if appInfra['Mongo']=='yes' else 'PostgresQL' if appInfra['PostgresQL']=='yes' else 'None'\n",
    "appProcess=batch['Process']\n",
    "appProcessUrl=appProcess['schema']+\"://\"+appProcess['url']+':'+str(appProcess['port'])+'/'+appProcess['app']\n",
    "\n",
    "durationSingleTest=durationWithUnit(batch['Tests']['timeOrCount'], batch['Tests']['type'])\n",
    "\n",
    "# TODO: can we fetch this together with the CPU/Memory system details?\n",
    "jdkVersion='openjdk 11.0.10 2021-01-19'\n",
    "# TODO: do we want to model test engin in batch.json?\n",
    "testEngine='JMeter'\n",
    "\n",
    "warmup='no' if batch['Warmup']==\"no\" else durationWithUnit(batch['Warmup']['timeOrCount'], batch['Warmup']['type'])\n"
   ]
  },
  {
   "cell_type": "code",
   "execution_count": 35,
   "metadata": {},
   "outputs": [],
   "source": [
    "testResults=[]\n",
    "counter=0\n",
    "minTimestamp=sys.maxsize\n",
    "maxTimestamp=0\n",
    "for test in batch['Tests']['runs']:\n",
    "    csvName='test-run/results/res'+str(counter)+'.csv'\n",
    "    result = pd.read_csv(csvName, header=0, index_col=False)\n",
    "    # print(result)\n",
    "    resultData={}\n",
    "    addCommonData(resultData)\n",
    "    resultData['#Replicas']=test['replicas']\n",
    "    resultData['#Users']=test['users']\n",
    "    resultData['MRT(ms)']=result.Average[0]\n",
    "    resultData['RPS']=result.Throughput[0]\n",
    "    # print(resultData)\n",
    "\n",
    "    # TODO: restore once usage is available\n",
    "    usageName='test-run/results/usage'+str(counter)+'.csv'\n",
    "    # usageName='usageN.csv'\n",
    "    usage = pd.read_csv(usageName, \n",
    "        names=['appCpuUsage', 'systemCpuUsage', 'appMemoryUsage', 'appMemoryUsagePercentage', 'systemMemoryUsage', 'systemMemoryUsagePercentage'],\n",
    "        header=0, index_col=False)\n",
    "    resultData['CPU Usage-app']=usage.appCpuUsage[0]\n",
    "    resultData['CPU Usage-system']=usage.systemCpuUsage[0]\n",
    "    resultData['Memory Usage-app']=usage.appMemoryUsage[0]\n",
    "    resultData['Memory Usage%-app']=usage.appMemoryUsagePercentage[0]\n",
    "    resultData['Memory Usage-system']=usage.systemMemoryUsage[0]\n",
    "    resultData['Memory Usage%-system']=usage.systemMemoryUsagePercentage[0]\n",
    "\n",
    "    # print(resultData)\n",
    "    testResults.append(resultData)\n",
    "\n",
    "    jtlName='test-run/results/res'+str(counter)+'.jtl'\n",
    "    jtl = pd.read_csv(jtlName, header=0, index_col=False)\n",
    "    minTimestamp=min([minTimestamp, jtl.timeStamp[0]])\n",
    "    maxTimestamp=max([maxTimestamp, jtl.timeStamp[len(jtl)-1]])\n",
    "\n",
    "    counter=counter+1\n",
    "\n",
    "# print(testResults)"
   ]
  },
  {
   "cell_type": "code",
   "execution_count": 36,
   "metadata": {},
   "outputs": [],
   "source": [
    "startTime=time.strftime('%Y-%m-%d %H:%M:%S', time.localtime(minTimestamp/1000))\n",
    "endTime=time.strftime('%Y-%m-%d %H:%M:%S', time.localtime(maxTimestamp/1000))\n",
    "batchDuration=str(datetime.timedelta(seconds=(maxTimestamp/1000-minTimestamp/1000)))\n"
   ]
  },
  {
   "cell_type": "code",
   "execution_count": 69,
   "metadata": {},
   "outputs": [
    {
     "data": {
      "text/markdown": [
       "\n",
       "# Kogito Benchmart Report\n",
       "## Test Environment\n",
       "* Deployment:  On-premise\n",
       "* Execution time: Started 2021-10-28 18:02:03, ended 2021-10-28 18:52:33)\n",
       "* Duration:  0:50:30.654000\n",
       "* Duration of each test:  120 sec\n",
       "* Warmup: 60 sec\n",
       "* Persistence: Mongo\n",
       "* Process: http://localhost:8080/simpleHT\n"
      ],
      "text/plain": [
       "<IPython.core.display.Markdown object>"
      ]
     },
     "execution_count": 69,
     "metadata": {},
     "output_type": "execute_result"
    }
   ],
   "source": [
    "Markdown(\"\"\"\n",
    "# Kogito Benchmart Report\n",
    "## Test Environment\n",
    "* Deployment:  {deployment}\n",
    "* Execution time: Started {startTime}, ended {endTime})\n",
    "* Duration:  {batchDuration}\n",
    "* Duration of each test:  {durationSingleTest}\n",
    "* Warmup: {warmup}\n",
    "* Persistence: {persistence}\n",
    "* Process: {appProcessUrl}\n",
    "\"\"\".format(startTime=startTime, \n",
    "    endTime=endTime,batchDuration=batchDuration,\n",
    "    deployment=deployment, durationSingleTest=durationSingleTest, warmup=warmup,\n",
    "    persistence=persistence, appProcessUrl=appProcessUrl))\n",
    "\n"
   ]
  },
  {
   "cell_type": "code",
   "execution_count": 38,
   "metadata": {},
   "outputs": [
    {
     "data": {
      "text/markdown": [
       "\n",
       "## Test Client\n",
       "* Client host: localhost\n",
       "* Test engine:  JMeter\n"
      ],
      "text/plain": [
       "<IPython.core.display.Markdown object>"
      ]
     },
     "execution_count": 38,
     "metadata": {},
     "output_type": "execute_result"
    }
   ],
   "source": [
    "Markdown(\"\"\"\n",
    "## Test Client\n",
    "* Client host: {hostname}\n",
    "* Test engine:  {testEngine}\n",
    "\"\"\".format(hostname=tester['hostname'], testEngine=testEngine, durationSingleTest=durationSingleTest))\n"
   ]
  },
  {
   "cell_type": "code",
   "execution_count": 39,
   "metadata": {},
   "outputs": [
    {
     "data": {
      "text/markdown": [
       "\n",
       "## Test Service\n",
       "* Service host: localhost (4 CPU cores, 16 GB Memory)\n",
       "* Test engine:  JMeter\n",
       "* JDK version:  openjdk 11.0.10 2021-01-19\n",
       "* Kogito version: CoreFix-mem-idx-2.0.0-snap\n"
      ],
      "text/plain": [
       "<IPython.core.display.Markdown object>"
      ]
     },
     "execution_count": 39,
     "metadata": {},
     "output_type": "execute_result"
    }
   ],
   "source": [
    "Markdown(\"\"\"\n",
    "## Test Service\n",
    "* Service host: {hostname} ({totalCPUs} CPU cores, {totalMemoryGB} GB Memory)\n",
    "* Test engine:  {testEngine}\n",
    "* JDK version:  {jdkVersion}\n",
    "* Kogito version: {appVersion}\n",
    "\"\"\".format(hostname=app['hostname'], totalCPUs=totalCPUs, totalMemoryGB=totalMemoryGB,\n",
    "    testEngine=testEngine, jdkVersion=jdkVersion,\n",
    "    appVersion=batch['InfraSetup']['appVersion']))\n"
   ]
  },
  {
   "cell_type": "markdown",
   "metadata": {},
   "source": [
    "## Execution Report\n",
    "### Chart view"
   ]
  },
  {
   "cell_type": "code",
   "execution_count": 40,
   "metadata": {},
   "outputs": [],
   "source": [
    "raw = pd.DataFrame(testResults)\n",
    "# print(raw)"
   ]
  },
  {
   "cell_type": "code",
   "execution_count": 41,
   "metadata": {},
   "outputs": [],
   "source": [
    "raw.insert(1,'Start Time', startTime)\n",
    "raw.insert(2,'End Time', endTime)\n",
    "raw.insert(3,'Batch Duration', batchDuration)\n"
   ]
  },
  {
   "cell_type": "code",
   "execution_count": 42,
   "metadata": {},
   "outputs": [],
   "source": [
    "users = raw['#Users'].unique()\n",
    "# print(users)"
   ]
  },
  {
   "cell_type": "code",
   "execution_count": 43,
   "metadata": {},
   "outputs": [],
   "source": [
    "mrt = {}\n",
    "for r in raw['#Replicas'].unique():\n",
    "    mrtValues = raw[raw['#Replicas']==r]['MRT(ms)'].values\n",
    "    mrt['MRT#'+str(r)] = mrtValues\n",
    "# print(mrt)"
   ]
  },
  {
   "cell_type": "code",
   "execution_count": 44,
   "metadata": {},
   "outputs": [
    {
     "data": {
      "image/png": "[encoded data removed]",
      "text/plain": [
       "<Figure size 720x288 with 1 Axes>"
      ]
     },
     "metadata": {
      "needs_background": "light"
     },
     "output_type": "display_data"
    }
   ],
   "source": [
    "plt.rcParams[\"figure.figsize\"] = (10,4)\n",
    "\n",
    "mrtDF = pd.DataFrame(mrt, index=users)\n",
    "\n",
    "mrtDF.plot(kind=\"bar\")\n",
    "plt.title(\"Mean Response Time\")\n",
    "plt.xlabel(\"# Users\")\n",
    "plt.ylabel(\"MRT (ms)\")\n",
    "plt.rcParams[\"figure.figsize\"] = (10,4)\n"
   ]
  },
  {
   "cell_type": "code",
   "execution_count": 45,
   "metadata": {},
   "outputs": [],
   "source": [
    "rps = {}\n",
    "for r in raw['#Replicas'].unique():\n",
    "    rpsValues = raw[raw['#Replicas']==r]['RPS'].values\n",
    "    rps['RPS#'+str(r)] = rpsValues"
   ]
  },
  {
   "cell_type": "code",
   "execution_count": 46,
   "metadata": {},
   "outputs": [
    {
     "data": {
      "image/png": "[encoded data removed]",
      "text/plain": [
       "<Figure size 720x288 with 1 Axes>"
      ]
     },
     "metadata": {
      "needs_background": "light"
     },
     "output_type": "display_data"
    }
   ],
   "source": [
    "mrtDF = pd.DataFrame(rps, index=users)\n",
    "\n",
    "mrtDF.plot(kind=\"bar\")\n",
    "plt.title(\"Requests per Second\")\n",
    "plt.xlabel(\"# Users\")\n",
    "plt.ylabel(\"RPS\")\n",
    "plt.rcParams[\"figure.figsize\"] = (10,4)"
   ]
  },
  {
   "cell_type": "code",
   "execution_count": 47,
   "metadata": {},
   "outputs": [],
   "source": [
    "cpuUsage = {}\n",
    "for r in raw['#Replicas'].unique():\n",
    "    cpuUsageValues = raw[raw['#Replicas']==r]['CPU Usage-app'].str.replace('%','').apply(pd.to_numeric).values\n",
    "    cpuUsage['CPU#'+str(r)] = cpuUsageValues"
   ]
  },
  {
   "cell_type": "code",
   "execution_count": 48,
   "metadata": {},
   "outputs": [
    {
     "data": {
      "image/png": "[encoded data removed]",
      "text/plain": [
       "<Figure size 720x288 with 1 Axes>"
      ]
     },
     "metadata": {
      "needs_background": "light"
     },
     "output_type": "display_data"
    }
   ],
   "source": [
    "cpusDF = pd.DataFrame(cpuUsage, index=users)\n",
    "# cpusDF.style\n",
    "cpusDF.plot(kind=\"bar\")\n",
    "plt.title(\"CPU Usage (app)\")\n",
    "plt.xlabel(\"# Users\")\n",
    "plt.ylabel(\"CPU usage\")\n",
    "plt.rcParams[\"figure.figsize\"] = (10,4)"
   ]
  },
  {
   "cell_type": "code",
   "execution_count": 51,
   "metadata": {},
   "outputs": [],
   "source": [
    "memoryUsage = {}\n",
    "for r in raw['#Replicas'].unique():\n",
    "    memoryUsageValues = raw[raw['#Replicas']==r]['Memory Usage-app'].str.replace('MB','').apply(pd.to_numeric).values\n",
    "    memoryUsage['Memory#'+str(r)] = memoryUsageValues"
   ]
  },
  {
   "cell_type": "code",
   "execution_count": 52,
   "metadata": {},
   "outputs": [
    {
     "data": {
      "image/png": "[encoded data removed]",
      "text/plain": [
       "<Figure size 720x288 with 1 Axes>"
      ]
     },
     "metadata": {
      "needs_background": "light"
     },
     "output_type": "display_data"
    }
   ],
   "source": [
    "memoryUsageDF = pd.DataFrame(memoryUsage, index=users)\n",
    "memoryUsageDF.plot(kind=\"bar\")\n",
    "plt.title(\"Memory Usage (app)\")\n",
    "plt.xlabel(\"# Users\")\n",
    "plt.ylabel(\"Memory usage\")\n",
    "plt.rcParams[\"figure.figsize\"] = (10,4)"
   ]
  },
  {
   "cell_type": "code",
   "execution_count": 61,
   "metadata": {},
   "outputs": [],
   "source": [
    "combinedUsage = {}\n",
    "for r in raw['#Replicas'].unique():\n",
    "    appCpuUsageValues = raw[raw['#Replicas']==r]['CPU Usage-app'].str.replace('%','').apply(pd.to_numeric).values\n",
    "    systemCpuUsageValues = raw[raw['#Replicas']==r]['CPU Usage-system'].str.replace('%','').apply(pd.to_numeric).values\n",
    "    appMemoryUsageValues = raw[raw['#Replicas']==r]['Memory Usage%-app'].str.replace('%','').apply(pd.to_numeric).values\n",
    "    systemMemoryUsageValues = raw[raw['#Replicas']==r]['Memory Usage%-system'].str.replace('%','').apply(pd.to_numeric).values\n",
    "    combinedUsage['CPU%-app#'+str(r)] = appCpuUsageValues\n",
    "    combinedUsage['CPU%-sys#'+str(r)] = systemCpuUsageValues\n",
    "    combinedUsage['Memory%-app#'+str(r)] = appMemoryUsageValues\n",
    "    combinedUsage['Memory%-sys#'+str(r)] = systemMemoryUsageValues"
   ]
  },
  {
   "cell_type": "code",
   "execution_count": 62,
   "metadata": {},
   "outputs": [
    {
     "data": {
      "image/png": "[encoded data removed]",
      "text/plain": [
       "<Figure size 720x288 with 1 Axes>"
      ]
     },
     "metadata": {
      "needs_background": "light"
     },
     "output_type": "display_data"
    }
   ],
   "source": [
    "combinedUsageDF = pd.DataFrame(combinedUsage, index=users)\n",
    "combinedUsageDF.plot(kind=\"bar\")\n",
    "plt.title(\"Resource usage\")\n",
    "plt.xlabel(\"# Users\")\n",
    "plt.ylabel(\"Usage\")\n",
    "plt.rcParams[\"figure.figsize\"] = (10,4)"
   ]
  },
  {
   "cell_type": "markdown",
   "metadata": {},
   "source": [
    "### Tabular view"
   ]
  },
  {
   "cell_type": "code",
   "execution_count": 55,
   "metadata": {},
   "outputs": [
    {
     "data": {
      "text/html": [
       "<style type=\"text/css\">\n",
       "</style>\n",
       "<table id=\"T_e3d2b_\">\n",
       "  <thead>\n",
       "    <tr>\n",
       "      <th class=\"col_heading level0 col0\" >Deployment</th>\n",
       "      <th class=\"col_heading level0 col7\" >Persistence</th>\n",
       "      <th class=\"col_heading level0 col9\" >#Replicas</th>\n",
       "      <th class=\"col_heading level0 col10\" >#Users</th>\n",
       "      <th class=\"col_heading level0 col11\" >MRT(ms)</th>\n",
       "      <th class=\"col_heading level0 col12\" >RPS</th>\n",
       "      <th class=\"col_heading level0 col13\" >CPU Usage-app</th>\n",
       "      <th class=\"col_heading level0 col15\" >Memory Usage-app</th>\n",
       "      <th class=\"col_heading level0 col16\" >Memory Usage%-app</th>\n",
       "    </tr>\n",
       "  </thead>\n",
       "  <tbody>\n",
       "    <tr>\n",
       "      <td id=\"T_e3d2b_row0_col0\" class=\"data row0 col0\" >On-premise</td>\n",
       "      <td id=\"T_e3d2b_row0_col7\" class=\"data row0 col7\" >Mongo</td>\n",
       "      <td id=\"T_e3d2b_row0_col9\" class=\"data row0 col9\" >1</td>\n",
       "      <td id=\"T_e3d2b_row0_col10\" class=\"data row0 col10\" >1</td>\n",
       "      <td id=\"T_e3d2b_row0_col11\" class=\"data row0 col11\" >2</td>\n",
       "      <td id=\"T_e3d2b_row0_col12\" class=\"data row0 col12\" >331.400000</td>\n",
       "      <td id=\"T_e3d2b_row0_col13\" class=\"data row0 col13\" >130%</td>\n",
       "      <td id=\"T_e3d2b_row0_col15\" class=\"data row0 col15\" > 20GB</td>\n",
       "      <td id=\"T_e3d2b_row0_col16\" class=\"data row0 col16\" > 10.5%</td>\n",
       "    </tr>\n",
       "    <tr>\n",
       "      <td id=\"T_e3d2b_row1_col0\" class=\"data row1 col0\" >On-premise</td>\n",
       "      <td id=\"T_e3d2b_row1_col7\" class=\"data row1 col7\" >Mongo</td>\n",
       "      <td id=\"T_e3d2b_row1_col9\" class=\"data row1 col9\" >1</td>\n",
       "      <td id=\"T_e3d2b_row1_col10\" class=\"data row1 col10\" >4</td>\n",
       "      <td id=\"T_e3d2b_row1_col11\" class=\"data row1 col11\" >3</td>\n",
       "      <td id=\"T_e3d2b_row1_col12\" class=\"data row1 col12\" >1045.800000</td>\n",
       "      <td id=\"T_e3d2b_row1_col13\" class=\"data row1 col13\" >130%</td>\n",
       "      <td id=\"T_e3d2b_row1_col15\" class=\"data row1 col15\" > 20GB</td>\n",
       "      <td id=\"T_e3d2b_row1_col16\" class=\"data row1 col16\" > 10.5%</td>\n",
       "    </tr>\n",
       "    <tr>\n",
       "      <td id=\"T_e3d2b_row2_col0\" class=\"data row2 col0\" >On-premise</td>\n",
       "      <td id=\"T_e3d2b_row2_col7\" class=\"data row2 col7\" >Mongo</td>\n",
       "      <td id=\"T_e3d2b_row2_col9\" class=\"data row2 col9\" >1</td>\n",
       "      <td id=\"T_e3d2b_row2_col10\" class=\"data row2 col10\" >8</td>\n",
       "      <td id=\"T_e3d2b_row2_col11\" class=\"data row2 col11\" >5</td>\n",
       "      <td id=\"T_e3d2b_row2_col12\" class=\"data row2 col12\" >1339.100000</td>\n",
       "      <td id=\"T_e3d2b_row2_col13\" class=\"data row2 col13\" >130%</td>\n",
       "      <td id=\"T_e3d2b_row2_col15\" class=\"data row2 col15\" > 20GB</td>\n",
       "      <td id=\"T_e3d2b_row2_col16\" class=\"data row2 col16\" > 10.5%</td>\n",
       "    </tr>\n",
       "  </tbody>\n",
       "</table>\n"
      ],
      "text/plain": [
       "<pandas.io.formats.style.Styler at 0x12c16d6d0>"
      ]
     },
     "execution_count": 55,
     "metadata": {},
     "output_type": "execute_result"
    }
   ],
   "source": [
    "raw.style.hide_index().hide_columns(['Total CPUs', 'Total Memory GB', 'Start Time', 'End Time', 'Batch Duration',\n",
    "    'Duration Single Test', 'App Process URL', 'CPU Usage-system', 'Memory Usage-system','Memory Usage%-system'])"
   ]
  },
  {
   "cell_type": "code",
   "execution_count": 56,
   "metadata": {},
   "outputs": [
    {
     "data": {
      "text/html": [
       "<a download=\"On-premise_2021-10-28_18_02_03.csv\" href=\"data:text/csv;base64,LERlcGxveW1lbnQsU3RhcnQgVGltZSxFbmQgVGltZSxCYXRjaCBEdXJhdGlvbixUb3RhbCBDUFVzLFRvdGFsIE1lbW9yeSBHQixEdXJhdGlvbiBTaW5nbGUgVGVzdCxQZXJzaXN0ZW5jZSxBcHAgUHJvY2VzcyBVUkwsI1JlcGxpY2FzLCNVc2VycyxNUlQobXMpLFJQUyxDUFUgVXNhZ2UtYXBwLENQVSBVc2FnZS1zeXN0ZW0sTWVtb3J5IFVzYWdlLWFwcCxNZW1vcnkgVXNhZ2UlLWFwcCxNZW1vcnkgVXNhZ2Utc3lzdGVtLE1lbW9yeSBVc2FnZSUtc3lzdGVtCjAsT24tcHJlbWlzZSwyMDIxLTEwLTI4IDE4OjAyOjAzLDIwMjEtMTAtMjggMTg6NTI6MzMsMDo1MDozMC42NTQwMDAsNCwxNiwxMjAgc2VjLE1vbmdvLGh0dHA6Ly9sb2NhbGhvc3Q6ODA4MC9zaW1wbGVIVCwxLDEsMiwzMzEuNCwxMzAlLCAyMzAlLCAyMEdCLCAxMC41JSwgNzVHQiwgNTUlCjEsT24tcHJlbWlzZSwyMDIxLTEwLTI4IDE4OjAyOjAzLDIwMjEtMTAtMjggMTg6NTI6MzMsMDo1MDozMC42NTQwMDAsNCwxNiwxMjAgc2VjLE1vbmdvLGh0dHA6Ly9sb2NhbGhvc3Q6ODA4MC9zaW1wbGVIVCwxLDQsMywxMDQ1LjgsMTMwJSwgMjMwJSwgMjBHQiwgMTAuNSUsIDc1R0IsIDU1JQoyLE9uLXByZW1pc2UsMjAyMS0xMC0yOCAxODowMjowMywyMDIxLTEwLTI4IDE4OjUyOjMzLDA6NTA6MzAuNjU0MDAwLDQsMTYsMTIwIHNlYyxNb25nbyxodHRwOi8vbG9jYWxob3N0OjgwODAvc2ltcGxlSFQsMSw4LDUsMTMzOS4xLDEzMCUsIDIzMCUsIDIwR0IsIDEwLjUlLCA3NUdCLCA1NSUK\" target=\"_blank\">Download detailed CSV report</a>"
      ],
      "text/plain": [
       "<IPython.core.display.HTML object>"
      ]
     },
     "execution_count": 56,
     "metadata": {},
     "output_type": "execute_result"
    }
   ],
   "source": [
    "downloadName=(deployment+'_'+startTime+'.csv').replace(':',\"_\").replace(' ',\"_\")\n",
    "create_download_link(df=raw, filename=downloadName, title='Download detailed CSV report')"
   ]
  }
 ],
 "metadata": {
  "interpreter": {
   "hash": "293585b38e2a0038b1ddbb96059912485db9ec5b95e8cabc9f97287d864788c2"
  },
  "kernelspec": {
   "display_name": "Python 3.9.7 64-bit ('kogito-venv': venv)",
   "name": "python3"
  },
  "language_info": {
   "codemirror_mode": {
    "name": "ipython",
    "version": 3
   },
   "file_extension": ".py",
   "mimetype": "text/x-python",
   "name": "python",
   "nbconvert_exporter": "python",
   "pygments_lexer": "ipython3",
   "version": "3.9.7"
  },
  "orig_nbformat": 4
 },
 "nbformat": 4,
 "nbformat_minor": 2
}
