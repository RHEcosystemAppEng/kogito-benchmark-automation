{
 "cells": [
  {
   "cell_type": "markdown",
   "metadata": {},
   "source": [
    "# Kogito Benchmart Report"
   ]
  },
  {
   "cell_type": "code",
   "execution_count": null,
   "metadata": {},
   "outputs": [],
   "source": [
    "import configparser\n",
    "config=configparser.ConfigParser()\n",
    "config.read('execution.properties')\n",
    "env=config['ENV']\n",
    "\n",
    "from IPython.display import display, Markdown\n",
    "display(Markdown(\"| Target   |      Specs      |\\n\"+\n",
    "    \"|----------|:-------------|\\n\"+\n",
    "    f\"| Execution time |  {env['time']}|\\n\"+\n",
    "    f\"| Deployment |  {env['deployment']}|\\n\"+\n",
    "    f\"| Test Client |  {env['deployment.test']}|\\n\"+\n",
    "    f\"| Test Service |  {env['deployment.server']}|\\n\"+\n",
    "    f\"| Kogito version |  {env['kogito.version']}|\\n\"+\n",
    "    f\"| JDK version |  {env['jdk.version']}|\\n\"+\n",
    "    f\"| Duration in minutes of each test |  {env['duration.minutes']}|\\n\"+\n",
    "    f\"| Test engine |  {env['test.engine']}|\"))\n"
   ]
  },
  {
   "cell_type": "markdown",
   "metadata": {},
   "source": [
    "## Execution Report\n",
    "### Chart view"
   ]
  },
  {
   "cell_type": "code",
   "execution_count": null,
   "metadata": {},
   "outputs": [],
   "source": [
    "import pandas as pd\n",
    "raw = pd.read_csv(\"rawdata.csv\", names=['#Replicas','#Users','MRT(ms)','RPS'], header=0, index_col=False)"
   ]
  },
  {
   "cell_type": "code",
   "execution_count": null,
   "metadata": {},
   "outputs": [],
   "source": [
    "mrt = {}\n",
    "for r in raw['#Replicas'].unique():\n",
    "    mrtValues = raw[raw['#Replicas']==r]['MRT(ms)'].values\n",
    "    mrt['MRT#'+str(r)] = mrtValues\n",
    "# print(mrt)"
   ]
  },
  {
   "cell_type": "code",
   "execution_count": null,
   "metadata": {},
   "outputs": [],
   "source": [
    "users = raw['#Users'].unique()\n",
    "# print(users)"
   ]
  },
  {
   "cell_type": "code",
   "execution_count": null,
   "metadata": {},
   "outputs": [],
   "source": [
    "import matplotlib.pyplot as plt\n",
    "plt.rcParams[\"figure.figsize\"] = (10,4)\n",
    "\n",
    "mrtDF = pd.DataFrame(mrt\n",
    "                   , index=users)\n",
    "\n",
    "mrtDF.plot(kind=\"bar\")\n",
    "plt.title(\"Mean Response Time\")\n",
    "plt.xlabel(\"# Users\")\n",
    "plt.ylabel(\"MRT (ms)\")\n",
    "plt.rcParams[\"figure.figsize\"] = (10,4)\n"
   ]
  },
  {
   "cell_type": "code",
   "execution_count": null,
   "metadata": {},
   "outputs": [],
   "source": [
    "rps = {}\n",
    "for r in raw['#Replicas'].unique():\n",
    "    rpsValues = raw[raw['#Replicas']==r]['RPS'].values\n",
    "    rps['RPS#'+str(r)] = rpsValues"
   ]
  },
  {
   "cell_type": "code",
   "execution_count": null,
   "metadata": {},
   "outputs": [],
   "source": [
    "mrtDF = pd.DataFrame(rps\n",
    "                   , index=users)\n",
    "\n",
    "mrtDF.plot(kind=\"bar\")\n",
    "plt.title(\"Requests per Second\")\n",
    "plt.xlabel(\"# Users\")\n",
    "plt.ylabel(\"RPS\")"
   ]
  },
  {
   "cell_type": "markdown",
   "metadata": {},
   "source": [
    "### Tabular view"
   ]
  },
  {
   "cell_type": "code",
   "execution_count": null,
   "metadata": {},
   "outputs": [],
   "source": [
    "raw.style.hide_index()"
   ]
  }
 ],
 "metadata": {
  "interpreter": {
   "hash": "293585b38e2a0038b1ddbb96059912485db9ec5b95e8cabc9f97287d864788c2"
  },
  "kernelspec": {
   "display_name": "Python 3.9.7 64-bit ('kogito-venv': venv)",
   "name": "python3"
  },
  "language_info": {
   "codemirror_mode": {
    "name": "ipython",
    "version": 3
   },
   "file_extension": ".py",
   "mimetype": "text/x-python",
   "name": "python",
   "nbconvert_exporter": "python",
   "pygments_lexer": "ipython3",
   "version": "3.9.7"
  },
  "orig_nbformat": 4
 },
 "nbformat": 4,
 "nbformat_minor": 2
}
