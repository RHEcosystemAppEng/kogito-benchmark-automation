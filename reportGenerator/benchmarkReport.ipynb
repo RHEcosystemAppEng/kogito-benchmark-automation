{
 "cells": [
  {
   "cell_type": "markdown",
   "metadata": {},
   "source": [
    "# Kogito Benchmart Report"
   ]
  },
  {
   "cell_type": "code",
   "execution_count": 42,
   "metadata": {},
   "outputs": [
    {
     "name": "stdout",
     "output_type": "stream",
     "text": [
      "[{'#Replicas': 1, '#Users': 1, 'MRT(ms)': 32, 'RPS': 30.3}, {'#Replicas': 1, '#Users': 4, 'MRT(ms)': 30, 'RPS': 32.3}]\n"
     ]
    }
   ],
   "source": [
    "import json\n",
    "import csv\n",
    "import pandas as pd\n",
    "\n",
    "batch=json.load(open('test-run/batch.json'))\n",
    "# print(batch)\n",
    "\n",
    "results=[]\n",
    "counter=0\n",
    "for test in batch['Tests']:\n",
    "    # print(test)\n",
    "    csvName='test-run/results/res'+str(counter)+'.csv'\n",
    "    result = pd.read_csv(csvName, header=0, index_col=False)\n",
    "    # print(result)\n",
    "    resultData={}\n",
    "    resultData['#Replicas']=test['replicas']\n",
    "    resultData['#Users']=test['users']\n",
    "    resultData['MRT(ms)']=result.Average[0]\n",
    "    resultData['RPS']=result.Throughput[0]\n",
    "    # print(resultData)\n",
    "    results.append(resultData)\n",
    "    counter=counter+1\n",
    "\n",
    "print(results)"
   ]
  },
  {
   "cell_type": "code",
   "execution_count": 43,
   "metadata": {},
   "outputs": [
    {
     "data": {
      "text/markdown": [
       "| Target   |      Specs      |\n",
       "|----------|:-------------|\n",
       "| Execution time |  Fri 15 Oct 2021 11:30:36 CEST|\n",
       "| Deployment |  Cloud|\n",
       "| Test Client |  appeng-vm01.cloud.lab.eng.bos.redhat.com|\n",
       "| Test Service |  process-quarkus-example-fsi-kogito-benchmarking.apps.mw-ocp4.cloud.lab.eng.bos.redhat.com|\n",
       "| Kogito version |  1.11.0.Final|\n",
       "| JDK version |  openjdk 11.0.12 2021-07-20 LTS|\n",
       "| Duration in minutes of each test |  2|\n",
       "| Test engine |  JMeter|"
      ],
      "text/plain": [
       "<IPython.core.display.Markdown object>"
      ]
     },
     "metadata": {},
     "output_type": "display_data"
    }
   ],
   "source": [
    "import configparser\n",
    "config=configparser.ConfigParser()\n",
    "config.read('execution.properties')\n",
    "env=config['ENV']\n",
    "\n",
    "from IPython.display import display, Markdown\n",
    "display(Markdown(\"| Target   |      Specs      |\\n\"+\n",
    "    \"|----------|:-------------|\\n\"+\n",
    "    f\"| Execution time |  {env['time']}|\\n\"+\n",
    "    f\"| Deployment |  {env['deployment']}|\\n\"+\n",
    "    f\"| Test Client |  {env['deployment.test']}|\\n\"+\n",
    "    f\"| Test Service |  {env['deployment.server']}|\\n\"+\n",
    "    f\"| Kogito version |  {env['kogito.version']}|\\n\"+\n",
    "    f\"| JDK version |  {env['jdk.version']}|\\n\"+\n",
    "    f\"| Duration in minutes of each test |  {env['duration.minutes']}|\\n\"+\n",
    "    f\"| Test engine |  {env['test.engine']}|\"))\n"
   ]
  },
  {
   "cell_type": "markdown",
   "metadata": {},
   "source": [
    "## Execution Report\n",
    "### Chart view"
   ]
  },
  {
   "cell_type": "code",
   "execution_count": 44,
   "metadata": {},
   "outputs": [
    {
     "name": "stdout",
     "output_type": "stream",
     "text": [
      "   #Replicas  #Users  MRT(ms)   RPS\n",
      "0          1       1       32  30.3\n",
      "1          1       4       30  32.3\n"
     ]
    }
   ],
   "source": [
    "# raw = pd.read_csv(\"rawdata.csv\", names=['#Replicas','#Users','MRT(ms)','RPS'], header=0, index_col=False)\n",
    "raw = pd.DataFrame(results)\n",
    "print(raw)"
   ]
  },
  {
   "cell_type": "code",
   "execution_count": 45,
   "metadata": {},
   "outputs": [],
   "source": [
    "mrt = {}\n",
    "for r in raw['#Replicas'].unique():\n",
    "    mrtValues = raw[raw['#Replicas']==r]['MRT(ms)'].values\n",
    "    mrt['MRT#'+str(r)] = mrtValues\n",
    "# print(mrt)"
   ]
  },
  {
   "cell_type": "code",
   "execution_count": 46,
   "metadata": {},
   "outputs": [],
   "source": [
    "users = raw['#Users'].unique()\n",
    "# print(users)"
   ]
  },
  {
   "cell_type": "code",
   "execution_count": 47,
   "metadata": {},
   "outputs": [
    {
     "data": {
      "image/png": "[encoded data removed]",
      "text/plain": [
       "<Figure size 720x288 with 1 Axes>"
      ]
     },
     "metadata": {
      "needs_background": "light"
     },
     "output_type": "display_data"
    }
   ],
   "source": [
    "import matplotlib.pyplot as plt\n",
    "plt.rcParams[\"figure.figsize\"] = (10,4)\n",
    "\n",
    "mrtDF = pd.DataFrame(mrt\n",
    "                   , index=users)\n",
    "\n",
    "mrtDF.plot(kind=\"bar\")\n",
    "plt.title(\"Mean Response Time\")\n",
    "plt.xlabel(\"# Users\")\n",
    "plt.ylabel(\"MRT (ms)\")\n",
    "plt.rcParams[\"figure.figsize\"] = (10,4)\n"
   ]
  },
  {
   "cell_type": "code",
   "execution_count": 48,
   "metadata": {},
   "outputs": [],
   "source": [
    "rps = {}\n",
    "for r in raw['#Replicas'].unique():\n",
    "    rpsValues = raw[raw['#Replicas']==r]['RPS'].values\n",
    "    rps['RPS#'+str(r)] = rpsValues"
   ]
  },
  {
   "cell_type": "code",
   "execution_count": 49,
   "metadata": {},
   "outputs": [
    {
     "data": {
      "text/plain": [
       "Text(0, 0.5, 'RPS')"
      ]
     },
     "execution_count": 49,
     "metadata": {},
     "output_type": "execute_result"
    },
    {
     "data": {
      "image/png": "[encoded data removed]",
      "text/plain": [
       "<Figure size 720x288 with 1 Axes>"
      ]
     },
     "metadata": {
      "needs_background": "light"
     },
     "output_type": "display_data"
    }
   ],
   "source": [
    "mrtDF = pd.DataFrame(rps\n",
    "                   , index=users)\n",
    "\n",
    "mrtDF.plot(kind=\"bar\")\n",
    "plt.title(\"Requests per Second\")\n",
    "plt.xlabel(\"# Users\")\n",
    "plt.ylabel(\"RPS\")"
   ]
  },
  {
   "cell_type": "markdown",
   "metadata": {},
   "source": [
    "### Tabular view"
   ]
  },
  {
   "cell_type": "code",
   "execution_count": 50,
   "metadata": {},
   "outputs": [
    {
     "data": {
      "text/html": [
       "<style type=\"text/css\">\n",
       "</style>\n",
       "<table id=\"T_ed1f1_\">\n",
       "  <thead>\n",
       "    <tr>\n",
       "      <th class=\"col_heading level0 col0\" >#Replicas</th>\n",
       "      <th class=\"col_heading level0 col1\" >#Users</th>\n",
       "      <th class=\"col_heading level0 col2\" >MRT(ms)</th>\n",
       "      <th class=\"col_heading level0 col3\" >RPS</th>\n",
       "    </tr>\n",
       "  </thead>\n",
       "  <tbody>\n",
       "    <tr>\n",
       "      <td id=\"T_ed1f1_row0_col0\" class=\"data row0 col0\" >1</td>\n",
       "      <td id=\"T_ed1f1_row0_col1\" class=\"data row0 col1\" >1</td>\n",
       "      <td id=\"T_ed1f1_row0_col2\" class=\"data row0 col2\" >32</td>\n",
       "      <td id=\"T_ed1f1_row0_col3\" class=\"data row0 col3\" >30.300000</td>\n",
       "    </tr>\n",
       "    <tr>\n",
       "      <td id=\"T_ed1f1_row1_col0\" class=\"data row1 col0\" >1</td>\n",
       "      <td id=\"T_ed1f1_row1_col1\" class=\"data row1 col1\" >4</td>\n",
       "      <td id=\"T_ed1f1_row1_col2\" class=\"data row1 col2\" >30</td>\n",
       "      <td id=\"T_ed1f1_row1_col3\" class=\"data row1 col3\" >32.300000</td>\n",
       "    </tr>\n",
       "  </tbody>\n",
       "</table>\n"
      ],
      "text/plain": [
       "<pandas.io.formats.style.Styler at 0x12506c250>"
      ]
     },
     "execution_count": 50,
     "metadata": {},
     "output_type": "execute_result"
    }
   ],
   "source": [
    "raw.style.hide_index()"
   ]
  }
 ],
 "metadata": {
  "interpreter": {
   "hash": "293585b38e2a0038b1ddbb96059912485db9ec5b95e8cabc9f97287d864788c2"
  },
  "kernelspec": {
   "display_name": "Python 3.9.7 64-bit ('kogito-venv': venv)",
   "name": "python3"
  },
  "language_info": {
   "codemirror_mode": {
    "name": "ipython",
    "version": 3
   },
   "file_extension": ".py",
   "mimetype": "text/x-python",
   "name": "python",
   "nbconvert_exporter": "python",
   "pygments_lexer": "ipython3",
   "version": "3.9.7"
  },
  "orig_nbformat": 4
 },
 "nbformat": 4,
 "nbformat_minor": 2
}
